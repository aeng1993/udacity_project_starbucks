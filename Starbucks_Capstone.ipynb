{
 "cells": [
  {
   "cell_type": "markdown",
   "metadata": {},
   "source": [
    "# Starbucks Capstone Challenge\n",
    "\n",
    "### Introduction\n",
    "\n",
    "This data set contains simulated data that mimics customer behavior on the Starbucks rewards mobile app. Once every few days, Starbucks sends out an offer to users of the mobile app. An offer can be merely an advertisement for a drink or an actual offer such as a discount or BOGO (buy one get one free). Some users might not receive any offer during certain weeks. \n",
    "\n",
    "Not all users receive the same offer, and that is the challenge to solve with this data set.\n",
    "\n",
    "Your task is to **combine transaction, demographic and offer data to determine which demographic groups respond best to which offer type.** This data set is a simplified version of the real Starbucks app because the underlying simulator only has one product whereas Starbucks actually sells dozens of products.\n",
    "\n",
    "Every offer has a validity period before the offer expires. As an example, a BOGO offer might be valid for only 5 days. You'll see in the data set that informational offers have a validity period even though these ads are merely providing information about a product; for example, if an informational offer has 7 days of validity, you can assume the customer is feeling the influence of the offer for 7 days after receiving the advertisement.\n",
    "\n",
    "You'll be given transactional data showing user purchases made on the app including the timestamp of purchase and the amount of money spent on a purchase. This transactional data also has a record for each offer that a user receives as well as a record for when a user actually views the offer. There are also records for when a user completes an offer. \n",
    "\n",
    "Keep in mind as well that someone using the app might make a purchase through the app without having received an offer or seen an offer.\n",
    "\n",
    "### Example\n",
    "\n",
    "To give an example, a user could receive a discount offer buy 10 dollars get 2 off on Monday. The offer is valid for 10 days from receipt. If the customer accumulates at least 10 dollars in purchases during the validity period, the customer completes the offer.\n",
    "\n",
    "However, there are a few things to watch out for in this data set. Customers do not opt into the offers that they receive; in other words, a user can receive an offer, never actually view the offer, and still complete the offer. For example, a user might receive the \"buy 10 dollars get 2 dollars off offer\", but the user never opens the offer during the 10 day validity period. The customer spends 15 dollars during those ten days. There will be an offer completion record in the data set; however, the customer was not influenced by the offer because the customer never viewed the offer.\n",
    "\n",
    "### Cleaning\n",
    "\n",
    "This makes data cleaning especially important and tricky.\n",
    "\n",
    "You'll also want to take into account that some demographic groups will make purchases even if they don't receive an offer. From a business perspective, if a customer is going to make a 10 dollar purchase without an offer anyway, you wouldn't want to send a buy 10 dollars get 2 dollars off offer. You'll want to try to assess what a certain demographic group will buy when not receiving any offers.\n",
    "\n",
    "### Final Advice\n",
    "\n",
    "Because this is a capstone project, you are free to analyze the data any way you see fit. For example, you could build a machine learning model that predicts how much someone will spend based on demographics and offer type. Or you could build a model that predicts whether or not someone will respond to an offer. Or, you don't need to build a machine learning model at all. You could develop a set of heuristics that determine what offer you should send to each customer (i.e., 75 percent of women customers who were 35 years old responded to offer A vs 40 percent from the same demographic to offer B, so send offer A)."
   ]
  },
  {
   "cell_type": "markdown",
   "metadata": {},
   "source": [
    "# Data Sets\n",
    "\n",
    "The data is contained in three files:\n",
    "\n",
    "* portfolio.json - containing offer ids and meta data about each offer (duration, type, etc.)\n",
    "* profile.json - demographic data for each customer\n",
    "* transcript.json - records for transactions, offers received, offers viewed, and offers completed\n",
    "\n",
    "Here is the schema and explanation of each variable in the files:\n",
    "\n",
    "**portfolio.json**\n",
    "* id (string) - offer id\n",
    "* offer_type (string) - type of offer ie BOGO, discount, informational\n",
    "* difficulty (int) - minimum required spend to complete an offer\n",
    "* reward (int) - reward given for completing an offer\n",
    "* duration (int) - time for offer to be open, in days\n",
    "* channels (list of strings)\n",
    "\n",
    "**profile.json**\n",
    "* age (int) - age of the customer \n",
    "* became_member_on (int) - date when customer created an app account\n",
    "* gender (str) - gender of the customer (note some entries contain 'O' for other rather than M or F)\n",
    "* id (str) - customer id\n",
    "* income (float) - customer's income\n",
    "\n",
    "**transcript.json**\n",
    "* event (str) - record description (ie transaction, offer received, offer viewed, etc.)\n",
    "* person (str) - customer id\n",
    "* time (int) - time in hours since start of test. The data begins at time t=0\n",
    "* value - (dict of strings) - either an offer id or transaction amount depending on the record\n",
    "\n",
    "Finally, when you enter back into the notebook (use the jupyter icon again), you should be able to run the below cell without any errors."
   ]
  },
  {
   "cell_type": "code",
   "execution_count": 2,
   "metadata": {},
   "outputs": [],
   "source": [
    "import pandas as pd\n",
    "import numpy as np\n",
    "import math\n",
    "import json\n",
    "import matplotlib.pyplot as plt\n",
    "from sklearn.model_selection import train_test_split\n",
    "from sklearn.multioutput import MultiOutputClassifier\n",
    "from sklearn.metrics import classification_report\n",
    "from sklearn.metrics import f1_score\n",
    "from sklearn.ensemble import RandomForestClassifier\n",
    "from sklearn.naive_bayes import MultinomialNB\n",
    "from sklearn.linear_model import SGDClassifier\n",
    "from sklearn.model_selection import GridSearchCV\n",
    "import pickle"
   ]
  },
  {
   "cell_type": "code",
   "execution_count": 156,
   "metadata": {},
   "outputs": [],
   "source": [
    "# read in the json files\n",
    "portfolio = pd.read_json('data/portfolio.json', orient='records', lines=True)\n",
    "profile = pd.read_json('data/profile.json', orient='records', lines=True)\n",
    "transcript = pd.read_json('data/transcript.json', orient='records', lines=True)"
   ]
  },
  {
   "cell_type": "markdown",
   "metadata": {},
   "source": [
    "# 1. Data overview"
   ]
  },
  {
   "cell_type": "code",
   "execution_count": 157,
   "metadata": {
    "scrolled": false
   },
   "outputs": [
    {
     "name": "stdout",
     "output_type": "stream",
     "text": [
      "# rows in portfolio dataframe: 10\n"
     ]
    },
    {
     "data": {
      "text/html": [
       "<div>\n",
       "<style scoped>\n",
       "    .dataframe tbody tr th:only-of-type {\n",
       "        vertical-align: middle;\n",
       "    }\n",
       "\n",
       "    .dataframe tbody tr th {\n",
       "        vertical-align: top;\n",
       "    }\n",
       "\n",
       "    .dataframe thead th {\n",
       "        text-align: right;\n",
       "    }\n",
       "</style>\n",
       "<table border=\"1\" class=\"dataframe\">\n",
       "  <thead>\n",
       "    <tr style=\"text-align: right;\">\n",
       "      <th></th>\n",
       "      <th>reward</th>\n",
       "      <th>channels</th>\n",
       "      <th>difficulty</th>\n",
       "      <th>duration</th>\n",
       "      <th>offer_type</th>\n",
       "      <th>id</th>\n",
       "    </tr>\n",
       "  </thead>\n",
       "  <tbody>\n",
       "    <tr>\n",
       "      <th>0</th>\n",
       "      <td>10</td>\n",
       "      <td>[email, mobile, social]</td>\n",
       "      <td>10</td>\n",
       "      <td>7</td>\n",
       "      <td>bogo</td>\n",
       "      <td>ae264e3637204a6fb9bb56bc8210ddfd</td>\n",
       "    </tr>\n",
       "    <tr>\n",
       "      <th>1</th>\n",
       "      <td>10</td>\n",
       "      <td>[web, email, mobile, social]</td>\n",
       "      <td>10</td>\n",
       "      <td>5</td>\n",
       "      <td>bogo</td>\n",
       "      <td>4d5c57ea9a6940dd891ad53e9dbe8da0</td>\n",
       "    </tr>\n",
       "    <tr>\n",
       "      <th>2</th>\n",
       "      <td>0</td>\n",
       "      <td>[web, email, mobile]</td>\n",
       "      <td>0</td>\n",
       "      <td>4</td>\n",
       "      <td>informational</td>\n",
       "      <td>3f207df678b143eea3cee63160fa8bed</td>\n",
       "    </tr>\n",
       "    <tr>\n",
       "      <th>3</th>\n",
       "      <td>5</td>\n",
       "      <td>[web, email, mobile]</td>\n",
       "      <td>5</td>\n",
       "      <td>7</td>\n",
       "      <td>bogo</td>\n",
       "      <td>9b98b8c7a33c4b65b9aebfe6a799e6d9</td>\n",
       "    </tr>\n",
       "    <tr>\n",
       "      <th>4</th>\n",
       "      <td>5</td>\n",
       "      <td>[web, email]</td>\n",
       "      <td>20</td>\n",
       "      <td>10</td>\n",
       "      <td>discount</td>\n",
       "      <td>0b1e1539f2cc45b7b9fa7c272da2e1d7</td>\n",
       "    </tr>\n",
       "    <tr>\n",
       "      <th>5</th>\n",
       "      <td>3</td>\n",
       "      <td>[web, email, mobile, social]</td>\n",
       "      <td>7</td>\n",
       "      <td>7</td>\n",
       "      <td>discount</td>\n",
       "      <td>2298d6c36e964ae4a3e7e9706d1fb8c2</td>\n",
       "    </tr>\n",
       "    <tr>\n",
       "      <th>6</th>\n",
       "      <td>2</td>\n",
       "      <td>[web, email, mobile, social]</td>\n",
       "      <td>10</td>\n",
       "      <td>10</td>\n",
       "      <td>discount</td>\n",
       "      <td>fafdcd668e3743c1bb461111dcafc2a4</td>\n",
       "    </tr>\n",
       "    <tr>\n",
       "      <th>7</th>\n",
       "      <td>0</td>\n",
       "      <td>[email, mobile, social]</td>\n",
       "      <td>0</td>\n",
       "      <td>3</td>\n",
       "      <td>informational</td>\n",
       "      <td>5a8bc65990b245e5a138643cd4eb9837</td>\n",
       "    </tr>\n",
       "    <tr>\n",
       "      <th>8</th>\n",
       "      <td>5</td>\n",
       "      <td>[web, email, mobile, social]</td>\n",
       "      <td>5</td>\n",
       "      <td>5</td>\n",
       "      <td>bogo</td>\n",
       "      <td>f19421c1d4aa40978ebb69ca19b0e20d</td>\n",
       "    </tr>\n",
       "    <tr>\n",
       "      <th>9</th>\n",
       "      <td>2</td>\n",
       "      <td>[web, email, mobile]</td>\n",
       "      <td>10</td>\n",
       "      <td>7</td>\n",
       "      <td>discount</td>\n",
       "      <td>2906b810c7d4411798c6938adc9daaa5</td>\n",
       "    </tr>\n",
       "  </tbody>\n",
       "</table>\n",
       "</div>"
      ],
      "text/plain": [
       "   reward                      channels  difficulty  duration     offer_type  \\\n",
       "0      10       [email, mobile, social]          10         7           bogo   \n",
       "1      10  [web, email, mobile, social]          10         5           bogo   \n",
       "2       0          [web, email, mobile]           0         4  informational   \n",
       "3       5          [web, email, mobile]           5         7           bogo   \n",
       "4       5                  [web, email]          20        10       discount   \n",
       "5       3  [web, email, mobile, social]           7         7       discount   \n",
       "6       2  [web, email, mobile, social]          10        10       discount   \n",
       "7       0       [email, mobile, social]           0         3  informational   \n",
       "8       5  [web, email, mobile, social]           5         5           bogo   \n",
       "9       2          [web, email, mobile]          10         7       discount   \n",
       "\n",
       "                                 id  \n",
       "0  ae264e3637204a6fb9bb56bc8210ddfd  \n",
       "1  4d5c57ea9a6940dd891ad53e9dbe8da0  \n",
       "2  3f207df678b143eea3cee63160fa8bed  \n",
       "3  9b98b8c7a33c4b65b9aebfe6a799e6d9  \n",
       "4  0b1e1539f2cc45b7b9fa7c272da2e1d7  \n",
       "5  2298d6c36e964ae4a3e7e9706d1fb8c2  \n",
       "6  fafdcd668e3743c1bb461111dcafc2a4  \n",
       "7  5a8bc65990b245e5a138643cd4eb9837  \n",
       "8  f19421c1d4aa40978ebb69ca19b0e20d  \n",
       "9  2906b810c7d4411798c6938adc9daaa5  "
      ]
     },
     "execution_count": 157,
     "metadata": {},
     "output_type": "execute_result"
    }
   ],
   "source": [
    "# quick look on portfolio dataframe\n",
    "# offer id needs conversion, will be handled in next section\n",
    "\n",
    "print('# rows in portfolio dataframe: {}'.format(len(portfolio)))\n",
    "portfolio"
   ]
  },
  {
   "cell_type": "code",
   "execution_count": 158,
   "metadata": {},
   "outputs": [
    {
     "name": "stdout",
     "output_type": "stream",
     "text": [
      "# rows in profile dataframe: 17000\n"
     ]
    },
    {
     "data": {
      "text/html": [
       "<div>\n",
       "<style scoped>\n",
       "    .dataframe tbody tr th:only-of-type {\n",
       "        vertical-align: middle;\n",
       "    }\n",
       "\n",
       "    .dataframe tbody tr th {\n",
       "        vertical-align: top;\n",
       "    }\n",
       "\n",
       "    .dataframe thead th {\n",
       "        text-align: right;\n",
       "    }\n",
       "</style>\n",
       "<table border=\"1\" class=\"dataframe\">\n",
       "  <thead>\n",
       "    <tr style=\"text-align: right;\">\n",
       "      <th></th>\n",
       "      <th>gender</th>\n",
       "      <th>age</th>\n",
       "      <th>id</th>\n",
       "      <th>became_member_on</th>\n",
       "      <th>income</th>\n",
       "    </tr>\n",
       "  </thead>\n",
       "  <tbody>\n",
       "    <tr>\n",
       "      <th>0</th>\n",
       "      <td>None</td>\n",
       "      <td>118</td>\n",
       "      <td>68be06ca386d4c31939f3a4f0e3dd783</td>\n",
       "      <td>20170212</td>\n",
       "      <td>NaN</td>\n",
       "    </tr>\n",
       "    <tr>\n",
       "      <th>1</th>\n",
       "      <td>F</td>\n",
       "      <td>55</td>\n",
       "      <td>0610b486422d4921ae7d2bf64640c50b</td>\n",
       "      <td>20170715</td>\n",
       "      <td>112000.0</td>\n",
       "    </tr>\n",
       "    <tr>\n",
       "      <th>2</th>\n",
       "      <td>None</td>\n",
       "      <td>118</td>\n",
       "      <td>38fe809add3b4fcf9315a9694bb96ff5</td>\n",
       "      <td>20180712</td>\n",
       "      <td>NaN</td>\n",
       "    </tr>\n",
       "    <tr>\n",
       "      <th>3</th>\n",
       "      <td>F</td>\n",
       "      <td>75</td>\n",
       "      <td>78afa995795e4d85b5d9ceeca43f5fef</td>\n",
       "      <td>20170509</td>\n",
       "      <td>100000.0</td>\n",
       "    </tr>\n",
       "    <tr>\n",
       "      <th>4</th>\n",
       "      <td>None</td>\n",
       "      <td>118</td>\n",
       "      <td>a03223e636434f42ac4c3df47e8bac43</td>\n",
       "      <td>20170804</td>\n",
       "      <td>NaN</td>\n",
       "    </tr>\n",
       "  </tbody>\n",
       "</table>\n",
       "</div>"
      ],
      "text/plain": [
       "  gender  age                                id  became_member_on    income\n",
       "0   None  118  68be06ca386d4c31939f3a4f0e3dd783          20170212       NaN\n",
       "1      F   55  0610b486422d4921ae7d2bf64640c50b          20170715  112000.0\n",
       "2   None  118  38fe809add3b4fcf9315a9694bb96ff5          20180712       NaN\n",
       "3      F   75  78afa995795e4d85b5d9ceeca43f5fef          20170509  100000.0\n",
       "4   None  118  a03223e636434f42ac4c3df47e8bac43          20170804       NaN"
      ]
     },
     "execution_count": 158,
     "metadata": {},
     "output_type": "execute_result"
    }
   ],
   "source": [
    "# quick look on profile dataframe\n",
    "# user id needs conversion, will be handled in next section\n",
    "\n",
    "print('# rows in profile dataframe: {}'.format(len(profile)))\n",
    "profile.head()"
   ]
  },
  {
   "cell_type": "code",
   "execution_count": 159,
   "metadata": {},
   "outputs": [
    {
     "name": "stdout",
     "output_type": "stream",
     "text": [
      "# of missing gender data: 2175\n",
      "percentage of missing gender data: 13%\n"
     ]
    },
    {
     "data": {
      "image/png": "[encoded data removed]",
      "text/plain": [
       "<Figure size 432x288 with 1 Axes>"
      ]
     },
     "metadata": {
      "needs_background": "light"
     },
     "output_type": "display_data"
    }
   ],
   "source": [
    "# visualization on gender distribution\n",
    "# missing values for gender will be handled in next section\n",
    "\n",
    "gender_non = profile['gender'].isnull().sum()\n",
    "gender_o = profile['gender'].value_counts()['O']\n",
    "gender_m = profile['gender'].value_counts()['M']\n",
    "gender_f = profile['gender'].value_counts()['F']\n",
    "plt.bar(['male','female','other','unknown'],[gender_m,gender_f,gender_o,gender_non])\n",
    "plt.ylabel('User count')\n",
    "\n",
    "print('# of missing gender data: {}'.format(gender_non))\n",
    "print('percentage of missing gender data: {}%'.format(round(gender_non/len(profile)*100),2))"
   ]
  },
  {
   "cell_type": "code",
   "execution_count": 160,
   "metadata": {},
   "outputs": [
    {
     "name": "stdout",
     "output_type": "stream",
     "text": [
      "Count the # of missing age data: 0\n",
      "percentage of missing age data: 0%\n"
     ]
    },
    {
     "data": {
      "image/png": "[encoded data removed]",
      "text/plain": [
       "<Figure size 432x288 with 1 Axes>"
      ]
     },
     "metadata": {
      "needs_background": "light"
     },
     "output_type": "display_data"
    }
   ],
   "source": [
    "# visualization on age distribution\n",
    "# a group of suspicious data for age >100, will be labeled as \"other\" age group in next section\n",
    "# with a closer look, it's not hard to find that those users are also those with unknown gender and no income.\n",
    "\n",
    "plt.hist(profile['age'])\n",
    "plt.xlabel('User age')\n",
    "plt.ylabel('User count')\n",
    "\n",
    "print('Count the # of missing age data: {}'.format(profile['age'].isnull().sum()))\n",
    "print('percentage of missing age data: {}%'.format(round(profile['age'].isnull().sum()/len(profile)*100),2))"
   ]
  },
  {
   "cell_type": "code",
   "execution_count": 161,
   "metadata": {},
   "outputs": [
    {
     "name": "stdout",
     "output_type": "stream",
     "text": [
      "Count the age group for those above 101 yr old:\n",
      "118    2175\n",
      "Name: age, dtype: int64\n",
      "Count the gender group for those above 101 yr old:\n",
      "Series([], Name: gender, dtype: int64)\n",
      "Count the income group for those above 101 yr old:\n",
      "Series([], Name: income, dtype: int64)\n",
      "Count the membership history group for those above 101 yr old:\n",
      "20170901    11\n",
      "20171002     9\n",
      "20170907     8\n",
      "20171126     8\n",
      "20170928     8\n",
      "            ..\n",
      "20160413     1\n",
      "20160407     1\n",
      "20160403     1\n",
      "20170630     1\n",
      "20160508     1\n",
      "Name: became_member_on, Length: 950, dtype: int64\n"
     ]
    }
   ],
   "source": [
    "print('Count the age group for those above 101 yr old:\\n{}'.format(profile[profile['age']>101]['age'].value_counts()))\n",
    "print('Count the gender group for those above 101 yr old:\\n{}'.format(profile[profile['age']>101]['gender'].value_counts()))\n",
    "print('Count the income group for those above 101 yr old:\\n{}'.format(profile[profile['age']>101]['income'].value_counts()))\n",
    "print('Count the membership history group for those above 101 yr old:\\n{}'.format(profile[profile['age']>101]['became_member_on'].value_counts()))\n"
   ]
  },
  {
   "cell_type": "code",
   "execution_count": 162,
   "metadata": {},
   "outputs": [
    {
     "name": "stdout",
     "output_type": "stream",
     "text": [
      "# of missing data on membership history: 0\n",
      "percentage of missing membership data: 0%\n"
     ]
    },
    {
     "data": {
      "image/png": "[encoded data removed]",
      "text/plain": [
       "<Figure size 432x288 with 1 Axes>"
      ]
     },
     "metadata": {
      "needs_background": "light"
     },
     "output_type": "display_data"
    }
   ],
   "source": [
    "# visualization on membership history distribution\n",
    "# the membership history spans from 2013 to 2018\n",
    "\n",
    "plt.hist(profile['became_member_on'])\n",
    "plt.xlabel('User membership start date')\n",
    "plt.ylabel('User count')\n",
    "\n",
    "print('# of missing data on membership history: {}'.format(profile['became_member_on'].isnull().sum()))\n",
    "print('percentage of missing membership data: {}%'.format(round(profile['became_member_on'].isnull().sum()/len(profile)*100),2))"
   ]
  },
  {
   "cell_type": "code",
   "execution_count": 163,
   "metadata": {},
   "outputs": [
    {
     "name": "stdout",
     "output_type": "stream",
     "text": [
      "# of missing data on income: 2175\n",
      "percentage of missing income data: 13%\n"
     ]
    },
    {
     "data": {
      "image/png": "[encoded data removed]",
      "text/plain": [
       "<Figure size 432x288 with 1 Axes>"
      ]
     },
     "metadata": {
      "needs_background": "light"
     },
     "output_type": "display_data"
    }
   ],
   "source": [
    "# visualization on income distribution\n",
    "# the income range is from <40k to 120k\n",
    "\n",
    "plt.hist(profile['income'])\n",
    "plt.xlabel('User income')\n",
    "plt.ylabel('User count')\n",
    "\n",
    "print('# of missing data on income: {}'.format(profile['income'].isnull().sum()))\n",
    "print('percentage of missing income data: {}%'.format(round(profile['income'].isnull().sum()/len(profile)*100),2))"
   ]
  },
  {
   "cell_type": "code",
   "execution_count": 164,
   "metadata": {},
   "outputs": [
    {
     "name": "stdout",
     "output_type": "stream",
     "text": [
      "# rows in transcript dataframe: 306534\n",
      "\n",
      "Event type includes: \n",
      "['offer received' 'offer viewed' 'transaction' 'offer completed']\n"
     ]
    }
   ],
   "source": [
    "# quick look on transcript dataframe\n",
    "# user id and offer id need conversion in next section\n",
    "\n",
    "print('# rows in transcript dataframe: {}'.format(len(transcript)))\n",
    "print('\\nEvent type includes: \\n{}'.format(transcript['event'].unique()))\n",
    "#transcript.head()"
   ]
  },
  {
   "cell_type": "code",
   "execution_count": 165,
   "metadata": {},
   "outputs": [
    {
     "name": "stdout",
     "output_type": "stream",
     "text": [
      "fraction of transaction in all events:0.45\n",
      "fraction of 'offer received' in all events:0.25\n",
      "fraction of 'offer viewed' in all events:0.19\n",
      "fraction of 'offer completed' in all events:0.11\n"
     ]
    },
    {
     "data": {
      "image/png": "[encoded data removed]",
      "text/plain": [
       "<Figure size 432x288 with 1 Axes>"
      ]
     },
     "metadata": {
      "needs_background": "light"
     },
     "output_type": "display_data"
    }
   ],
   "source": [
    "# event distribution\n",
    "plt.hist(transcript['event'])\n",
    "plt.ylabel('event count')\n",
    "\n",
    "print('fraction of transaction in all events:{}'.format(round(len(transcript[transcript['event']=='transaction'])/len(transcript),2)))\n",
    "print(\"fraction of 'offer received' in all events:{}\".format(round(len(transcript[transcript['event']=='offer received'])/len(transcript),2)))\n",
    "print(\"fraction of 'offer viewed' in all events:{}\".format(round(len(transcript[transcript['event']=='offer viewed'])/len(transcript),2)))\n",
    "print(\"fraction of 'offer completed' in all events:{}\".format(round(len(transcript[transcript['event']=='offer completed'])/len(transcript),2)))\n",
    "                                 \n",
    "                                                        "
   ]
  },
  {
   "cell_type": "code",
   "execution_count": 166,
   "metadata": {},
   "outputs": [
    {
     "name": "stdout",
     "output_type": "stream",
     "text": [
      "16994 users received at least one offer\n",
      "6 users did not receive any offer\n"
     ]
    }
   ],
   "source": [
    "# look at how many users in the dataset have received at least one offer\n",
    "# turns out that majority of user have, meaning that there is almost no \"control\" group in the set\n",
    "\n",
    "user_with_offer = set(transcript[transcript['event']=='offer received']['person'].values)\n",
    "with_offer_len = len(profile[profile['id'].isin(user_with_offer)])\n",
    "without_offer_len = len(profile[~profile['id'].isin(user_with_offer)])\n",
    "\n",
    "print('{} users received at least one offer'.format(with_offer_len))\n",
    "print('{} users did not receive any offer'.format(without_offer_len))\n"
   ]
  },
  {
   "cell_type": "markdown",
   "metadata": {},
   "source": [
    "# 2. Data cleaning & preparation"
   ]
  },
  {
   "cell_type": "markdown",
   "metadata": {},
   "source": [
    "### 2.1 portfolio dataframe"
   ]
  },
  {
   "cell_type": "code",
   "execution_count": 168,
   "metadata": {},
   "outputs": [],
   "source": [
    "# Add an offer_id column for id name conversion\n",
    "portfolio['offer_id']=portfolio.index"
   ]
  },
  {
   "cell_type": "markdown",
   "metadata": {},
   "source": [
    "### 2.2 profile dataframe "
   ]
  },
  {
   "cell_type": "code",
   "execution_count": 169,
   "metadata": {},
   "outputs": [],
   "source": [
    "# Create a new column for simple number user id\n",
    "profile['user_id']=profile.index"
   ]
  },
  {
   "cell_type": "code",
   "execution_count": 170,
   "metadata": {},
   "outputs": [],
   "source": [
    "# Fill the missing gender in 'gender' column with string 'U', meaning gender unknown/not provided\n",
    "profile['gender'].fillna('U', inplace=True)"
   ]
  },
  {
   "cell_type": "code",
   "execution_count": 171,
   "metadata": {},
   "outputs": [],
   "source": [
    "# Creat a new column to define age groups by every 5 years until >80\n",
    "# First define a function to be applied\n",
    "\n",
    "def age_group(x):\n",
    "    '''\n",
    "    Input:\n",
    "    x - age value of the user\n",
    "    Output:\n",
    "    grp - age group of the user (e.g. <20, 20-25, 25-30, etc.)\n",
    "    \n",
    "    Note that there is a group of users age >101 yr, they will be labeled as \"unclear\" age group\n",
    "    '''\n",
    "    \n",
    "    if x<20:\n",
    "        grp = '<20'\n",
    "    elif (x>=20) & (x<25):\n",
    "        grp = '20-25'\n",
    "    elif (x>=25) & (x<30):\n",
    "        grp = '25-30'\n",
    "    elif (x>=30) & (x<35):\n",
    "        grp = '30-35'\n",
    "    elif (x>=35) & (x<40):\n",
    "        grp = '35-40'        \n",
    "    elif (x>=40) & (x<45):\n",
    "        grp = '40-45'\n",
    "    elif (x>=45) & (x<50):\n",
    "        grp = '45-50'        \n",
    "    elif (x>=50) & (x<55):\n",
    "        grp = '50-55'\n",
    "    elif (x>=55) & (x<60):\n",
    "        grp = '55-60'    \n",
    "    elif (x>=60) & (x<65):\n",
    "        grp = '60-65'\n",
    "    elif (x>=65) & (x<70):\n",
    "        grp = '65-70'\n",
    "    elif (x>=70) & (x<80):\n",
    "        grp = '70-80'\n",
    "    elif (x>=80) & (x<=101):\n",
    "        grp = '80-101'\n",
    "    else:\n",
    "        grp = 'unclear'\n",
    "    return grp\n",
    "\n",
    "# Add the age group column\n",
    "profile['age_group'] = profile['age'].apply(lambda x: age_group(x))"
   ]
  },
  {
   "cell_type": "code",
   "execution_count": 172,
   "metadata": {},
   "outputs": [],
   "source": [
    "# Creat a new column to define membership history groups by every 1 year \n",
    "# First define a function to be applied\n",
    "\n",
    "def membership_group(x):\n",
    "    '''\n",
    "    Input:\n",
    "    x - date that the user became a member\n",
    "    Output:\n",
    "    grp - membership history group of the user (e.g. before_2014, since_2104, etc.)\n",
    "    '''\n",
    "    \n",
    "    if x<20140101:\n",
    "        grp = 'before_2014'\n",
    "    elif (x>=20140101) & (x<20150101):\n",
    "        grp = 'since_2014'\n",
    "    elif (x>=20150101) & (x<20160101):\n",
    "        grp = 'since_2015'\n",
    "    elif (x>=20160101) & (x<20170101):\n",
    "        grp = 'since_2016'\n",
    "    elif (x>=20170101) & (x<20180101):\n",
    "        grp = 'since_2017'\n",
    "    else:\n",
    "        grp = 'since_2018'\n",
    "    return grp\n",
    "\n",
    "# Add the membership group column\n",
    "profile['membership_group'] = profile['became_member_on'].apply(lambda x: membership_group(x))"
   ]
  },
  {
   "cell_type": "code",
   "execution_count": 173,
   "metadata": {},
   "outputs": [],
   "source": [
    "# Creat a new column to define income groups \n",
    "# First define a function to be applied\n",
    "\n",
    "def income_group(x):\n",
    "    '''\n",
    "    Input:\n",
    "    x - user's income\n",
    "    Output:\n",
    "    grp - income group of the user (e.g. <40k, 40-60k, etc.)\n",
    "    '''\n",
    "    \n",
    "    if x<40000:\n",
    "        grp = '<40k'\n",
    "    elif (x>=40000) & (x<60000):\n",
    "        grp = '40-60k'\n",
    "    elif (x>=60000) & (x<80000):\n",
    "        grp = '60-80k'\n",
    "    elif (x>=80000) & (x<100000):\n",
    "        grp = '80-100k'\n",
    "    elif x>=100000:\n",
    "        grp = '>100k'\n",
    "    else:\n",
    "        grp = 'unknown'\n",
    "    return grp\n",
    "\n",
    "# Add the income group column\n",
    "profile['income_group'] = profile['income'].apply(lambda x: income_group(x))"
   ]
  },
  {
   "cell_type": "code",
   "execution_count": 174,
   "metadata": {},
   "outputs": [
    {
     "data": {
      "text/html": [
       "<div>\n",
       "<style scoped>\n",
       "    .dataframe tbody tr th:only-of-type {\n",
       "        vertical-align: middle;\n",
       "    }\n",
       "\n",
       "    .dataframe tbody tr th {\n",
       "        vertical-align: top;\n",
       "    }\n",
       "\n",
       "    .dataframe thead th {\n",
       "        text-align: right;\n",
       "    }\n",
       "</style>\n",
       "<table border=\"1\" class=\"dataframe\">\n",
       "  <thead>\n",
       "    <tr style=\"text-align: right;\">\n",
       "      <th></th>\n",
       "      <th>gender</th>\n",
       "      <th>age</th>\n",
       "      <th>id</th>\n",
       "      <th>became_member_on</th>\n",
       "      <th>income</th>\n",
       "      <th>user_id</th>\n",
       "      <th>age_group</th>\n",
       "      <th>membership_group</th>\n",
       "      <th>income_group</th>\n",
       "    </tr>\n",
       "  </thead>\n",
       "  <tbody>\n",
       "    <tr>\n",
       "      <th>0</th>\n",
       "      <td>U</td>\n",
       "      <td>118</td>\n",
       "      <td>68be06ca386d4c31939f3a4f0e3dd783</td>\n",
       "      <td>20170212</td>\n",
       "      <td>NaN</td>\n",
       "      <td>0</td>\n",
       "      <td>unclear</td>\n",
       "      <td>since_2017</td>\n",
       "      <td>unknown</td>\n",
       "    </tr>\n",
       "    <tr>\n",
       "      <th>1</th>\n",
       "      <td>F</td>\n",
       "      <td>55</td>\n",
       "      <td>0610b486422d4921ae7d2bf64640c50b</td>\n",
       "      <td>20170715</td>\n",
       "      <td>112000.0</td>\n",
       "      <td>1</td>\n",
       "      <td>55-60</td>\n",
       "      <td>since_2017</td>\n",
       "      <td>&gt;100k</td>\n",
       "    </tr>\n",
       "    <tr>\n",
       "      <th>2</th>\n",
       "      <td>U</td>\n",
       "      <td>118</td>\n",
       "      <td>38fe809add3b4fcf9315a9694bb96ff5</td>\n",
       "      <td>20180712</td>\n",
       "      <td>NaN</td>\n",
       "      <td>2</td>\n",
       "      <td>unclear</td>\n",
       "      <td>since_2018</td>\n",
       "      <td>unknown</td>\n",
       "    </tr>\n",
       "    <tr>\n",
       "      <th>3</th>\n",
       "      <td>F</td>\n",
       "      <td>75</td>\n",
       "      <td>78afa995795e4d85b5d9ceeca43f5fef</td>\n",
       "      <td>20170509</td>\n",
       "      <td>100000.0</td>\n",
       "      <td>3</td>\n",
       "      <td>70-80</td>\n",
       "      <td>since_2017</td>\n",
       "      <td>&gt;100k</td>\n",
       "    </tr>\n",
       "    <tr>\n",
       "      <th>4</th>\n",
       "      <td>U</td>\n",
       "      <td>118</td>\n",
       "      <td>a03223e636434f42ac4c3df47e8bac43</td>\n",
       "      <td>20170804</td>\n",
       "      <td>NaN</td>\n",
       "      <td>4</td>\n",
       "      <td>unclear</td>\n",
       "      <td>since_2017</td>\n",
       "      <td>unknown</td>\n",
       "    </tr>\n",
       "  </tbody>\n",
       "</table>\n",
       "</div>"
      ],
      "text/plain": [
       "  gender  age                                id  became_member_on    income  \\\n",
       "0      U  118  68be06ca386d4c31939f3a4f0e3dd783          20170212       NaN   \n",
       "1      F   55  0610b486422d4921ae7d2bf64640c50b          20170715  112000.0   \n",
       "2      U  118  38fe809add3b4fcf9315a9694bb96ff5          20180712       NaN   \n",
       "3      F   75  78afa995795e4d85b5d9ceeca43f5fef          20170509  100000.0   \n",
       "4      U  118  a03223e636434f42ac4c3df47e8bac43          20170804       NaN   \n",
       "\n",
       "   user_id age_group membership_group income_group  \n",
       "0        0   unclear       since_2017      unknown  \n",
       "1        1     55-60       since_2017        >100k  \n",
       "2        2   unclear       since_2018      unknown  \n",
       "3        3     70-80       since_2017        >100k  \n",
       "4        4   unclear       since_2017      unknown  "
      ]
     },
     "execution_count": 174,
     "metadata": {},
     "output_type": "execute_result"
    }
   ],
   "source": [
    "profile.head()"
   ]
  },
  {
   "cell_type": "markdown",
   "metadata": {},
   "source": [
    "### 2.3 transcript dataframe "
   ]
  },
  {
   "cell_type": "code",
   "execution_count": 175,
   "metadata": {},
   "outputs": [],
   "source": [
    "# Extract the value from the 'event' column into a new column for 'event_value'\n",
    "# The 'event_value' will be further processed depending on event type\n",
    "\n",
    "def event_value(x):\n",
    "    '''\n",
    "    Input:\n",
    "    x - value in the 'event' column, x is in a dictionary format\n",
    "    Output:\n",
    "    value - the value in the x dictionary, either transaction amount (float) or offer id (str)\n",
    "    '''\n",
    "        \n",
    "    if x.event == 'transaction':\n",
    "        value = x['value'].get('amount')\n",
    "    elif x.event == 'offer completed':\n",
    "        value = x['value'].get('offer_id')\n",
    "    else:\n",
    "        value = x['value'].get('offer id')\n",
    "    return value\n",
    "\n",
    "# Add the 'event_value' column \n",
    "transcript['event_value']=transcript.apply(lambda x: event_value(x), axis=1)"
   ]
  },
  {
   "cell_type": "code",
   "execution_count": 176,
   "metadata": {},
   "outputs": [],
   "source": [
    "# Clean up the user_id and offer_id in the transcript dataframe\n",
    "\n",
    "# Create a dictionary for id mapping to clean up user id columns\n",
    "map_user = dict()\n",
    "for old_id, new_id in zip(profile['id'],profile['user_id']):\n",
    "    map_user[old_id]=new_id\n",
    "    \n",
    "# Apply the function to clean up user_id    \n",
    "transcript['person'] = transcript['person'].apply(lambda x: map_user[x])\n",
    "# Create a new dataframe of transcript containing only offer-relevant records\n",
    "transcript_offer = transcript[transcript['event']!='transaction'].copy()\n",
    "\n",
    "\n",
    "# Create a dictionary to map old,long offer id to new,short offer id\n",
    "map_offer = dict()\n",
    "# Create a dictionary to map old,long offer id to offer type\n",
    "map_offer_type = dict()\n",
    "for old_id, new_id, _type in zip(portfolio['id'],portfolio['offer_id'],portfolio['offer_type']):\n",
    "    map_offer[old_id]=new_id\n",
    "    map_offer_type[new_id]=_type\n",
    "\n",
    "# Apply the function to clean up offer_id and show offer type\n",
    "transcript_offer['offer_id'] = transcript_offer['event_value'].apply(lambda x: map_offer[x])\n",
    "transcript_offer['offer_type'] = transcript_offer['offer_id'].apply(lambda x: map_offer_type[x])"
   ]
  },
  {
   "cell_type": "code",
   "execution_count": 177,
   "metadata": {
    "scrolled": true
   },
   "outputs": [
    {
     "data": {
      "text/html": [
       "<div>\n",
       "<style scoped>\n",
       "    .dataframe tbody tr th:only-of-type {\n",
       "        vertical-align: middle;\n",
       "    }\n",
       "\n",
       "    .dataframe tbody tr th {\n",
       "        vertical-align: top;\n",
       "    }\n",
       "\n",
       "    .dataframe thead th {\n",
       "        text-align: right;\n",
       "    }\n",
       "</style>\n",
       "<table border=\"1\" class=\"dataframe\">\n",
       "  <thead>\n",
       "    <tr style=\"text-align: right;\">\n",
       "      <th></th>\n",
       "      <th>person</th>\n",
       "      <th>event</th>\n",
       "      <th>value</th>\n",
       "      <th>time</th>\n",
       "      <th>event_value</th>\n",
       "      <th>offer_id</th>\n",
       "      <th>offer_type</th>\n",
       "    </tr>\n",
       "  </thead>\n",
       "  <tbody>\n",
       "    <tr>\n",
       "      <th>0</th>\n",
       "      <td>3</td>\n",
       "      <td>offer received</td>\n",
       "      <td>{'offer id': '9b98b8c7a33c4b65b9aebfe6a799e6d9'}</td>\n",
       "      <td>0</td>\n",
       "      <td>9b98b8c7a33c4b65b9aebfe6a799e6d9</td>\n",
       "      <td>3</td>\n",
       "      <td>bogo</td>\n",
       "    </tr>\n",
       "    <tr>\n",
       "      <th>1</th>\n",
       "      <td>4</td>\n",
       "      <td>offer received</td>\n",
       "      <td>{'offer id': '0b1e1539f2cc45b7b9fa7c272da2e1d7'}</td>\n",
       "      <td>0</td>\n",
       "      <td>0b1e1539f2cc45b7b9fa7c272da2e1d7</td>\n",
       "      <td>4</td>\n",
       "      <td>discount</td>\n",
       "    </tr>\n",
       "    <tr>\n",
       "      <th>2</th>\n",
       "      <td>5</td>\n",
       "      <td>offer received</td>\n",
       "      <td>{'offer id': '2906b810c7d4411798c6938adc9daaa5'}</td>\n",
       "      <td>0</td>\n",
       "      <td>2906b810c7d4411798c6938adc9daaa5</td>\n",
       "      <td>9</td>\n",
       "      <td>discount</td>\n",
       "    </tr>\n",
       "    <tr>\n",
       "      <th>3</th>\n",
       "      <td>6</td>\n",
       "      <td>offer received</td>\n",
       "      <td>{'offer id': 'fafdcd668e3743c1bb461111dcafc2a4'}</td>\n",
       "      <td>0</td>\n",
       "      <td>fafdcd668e3743c1bb461111dcafc2a4</td>\n",
       "      <td>6</td>\n",
       "      <td>discount</td>\n",
       "    </tr>\n",
       "    <tr>\n",
       "      <th>4</th>\n",
       "      <td>7</td>\n",
       "      <td>offer received</td>\n",
       "      <td>{'offer id': '4d5c57ea9a6940dd891ad53e9dbe8da0'}</td>\n",
       "      <td>0</td>\n",
       "      <td>4d5c57ea9a6940dd891ad53e9dbe8da0</td>\n",
       "      <td>1</td>\n",
       "      <td>bogo</td>\n",
       "    </tr>\n",
       "  </tbody>\n",
       "</table>\n",
       "</div>"
      ],
      "text/plain": [
       "   person           event                                             value  \\\n",
       "0       3  offer received  {'offer id': '9b98b8c7a33c4b65b9aebfe6a799e6d9'}   \n",
       "1       4  offer received  {'offer id': '0b1e1539f2cc45b7b9fa7c272da2e1d7'}   \n",
       "2       5  offer received  {'offer id': '2906b810c7d4411798c6938adc9daaa5'}   \n",
       "3       6  offer received  {'offer id': 'fafdcd668e3743c1bb461111dcafc2a4'}   \n",
       "4       7  offer received  {'offer id': '4d5c57ea9a6940dd891ad53e9dbe8da0'}   \n",
       "\n",
       "   time                       event_value  offer_id offer_type  \n",
       "0     0  9b98b8c7a33c4b65b9aebfe6a799e6d9         3       bogo  \n",
       "1     0  0b1e1539f2cc45b7b9fa7c272da2e1d7         4   discount  \n",
       "2     0  2906b810c7d4411798c6938adc9daaa5         9   discount  \n",
       "3     0  fafdcd668e3743c1bb461111dcafc2a4         6   discount  \n",
       "4     0  4d5c57ea9a6940dd891ad53e9dbe8da0         1       bogo  "
      ]
     },
     "execution_count": 177,
     "metadata": {},
     "output_type": "execute_result"
    }
   ],
   "source": [
    "transcript_offer.head()"
   ]
  },
  {
   "cell_type": "code",
   "execution_count": 205,
   "metadata": {},
   "outputs": [
    {
     "data": {
      "text/html": [
       "<div>\n",
       "<style scoped>\n",
       "    .dataframe tbody tr th:only-of-type {\n",
       "        vertical-align: middle;\n",
       "    }\n",
       "\n",
       "    .dataframe tbody tr th {\n",
       "        vertical-align: top;\n",
       "    }\n",
       "\n",
       "    .dataframe thead th {\n",
       "        text-align: right;\n",
       "    }\n",
       "</style>\n",
       "<table border=\"1\" class=\"dataframe\">\n",
       "  <thead>\n",
       "    <tr style=\"text-align: right;\">\n",
       "      <th></th>\n",
       "      <th>0</th>\n",
       "      <th>1</th>\n",
       "      <th>2</th>\n",
       "      <th>3</th>\n",
       "      <th>4</th>\n",
       "      <th>5</th>\n",
       "      <th>6</th>\n",
       "      <th>7</th>\n",
       "      <th>8</th>\n",
       "      <th>9</th>\n",
       "    </tr>\n",
       "  </thead>\n",
       "  <tbody>\n",
       "    <tr>\n",
       "      <th>received</th>\n",
       "      <td>7658.000000</td>\n",
       "      <td>7593.000000</td>\n",
       "      <td>7617.000000</td>\n",
       "      <td>7677.000000</td>\n",
       "      <td>7668.000000</td>\n",
       "      <td>7646.000000</td>\n",
       "      <td>7597.000000</td>\n",
       "      <td>7618.000000</td>\n",
       "      <td>7571.000000</td>\n",
       "      <td>7632.000000</td>\n",
       "    </tr>\n",
       "    <tr>\n",
       "      <th>viewed frac</th>\n",
       "      <td>0.876991</td>\n",
       "      <td>0.961148</td>\n",
       "      <td>0.544046</td>\n",
       "      <td>0.543311</td>\n",
       "      <td>0.347287</td>\n",
       "      <td>0.959587</td>\n",
       "      <td>0.964460</td>\n",
       "      <td>0.877789</td>\n",
       "      <td>0.959451</td>\n",
       "      <td>0.539570</td>\n",
       "    </tr>\n",
       "    <tr>\n",
       "      <th>completed frac</th>\n",
       "      <td>0.481588</td>\n",
       "      <td>0.438694</td>\n",
       "      <td>NaN</td>\n",
       "      <td>0.567149</td>\n",
       "      <td>0.446009</td>\n",
       "      <td>0.674340</td>\n",
       "      <td>0.699882</td>\n",
       "      <td>NaN</td>\n",
       "      <td>0.567428</td>\n",
       "      <td>0.526336</td>\n",
       "    </tr>\n",
       "  </tbody>\n",
       "</table>\n",
       "</div>"
      ],
      "text/plain": [
       "                          0            1            2            3  \\\n",
       "received        7658.000000  7593.000000  7617.000000  7677.000000   \n",
       "viewed frac        0.876991     0.961148     0.544046     0.543311   \n",
       "completed frac     0.481588     0.438694          NaN     0.567149   \n",
       "\n",
       "                          4            5            6            7  \\\n",
       "received        7668.000000  7646.000000  7597.000000  7618.000000   \n",
       "viewed frac        0.347287     0.959587     0.964460     0.877789   \n",
       "completed frac     0.446009     0.674340     0.699882          NaN   \n",
       "\n",
       "                          8            9  \n",
       "received        7571.000000  7632.000000  \n",
       "viewed frac        0.959451     0.539570  \n",
       "completed frac     0.567428     0.526336  "
      ]
     },
     "execution_count": 205,
     "metadata": {},
     "output_type": "execute_result"
    }
   ],
   "source": [
    "# get an idea about how much offer received for each type, and percentage of viewing and completion\n",
    "\n",
    "offer_received_count = transcript_offer[transcript_offer['event']=='offer received']['offer_id']\n",
    "offer_viewed_count = transcript_offer[transcript_offer['event']=='offer viewed']['offer_id']\n",
    "offer_completed_count = transcript_offer[transcript_offer['event']=='offer completed']['offer_id']\n",
    "\n",
    "pd.DataFrame([offer_received_count.value_counts(), \n",
    "              offer_viewed_count.value_counts()/offer_received_count.value_counts(), \n",
    "              offer_completed_count.value_counts()/offer_received_count.value_counts()], \n",
    "              index=['received','viewed frac','completed frac'])"
   ]
  },
  {
   "cell_type": "markdown",
   "metadata": {},
   "source": [
    "### 2.4 Define user's responses to offers "
   ]
  },
  {
   "cell_type": "markdown",
   "metadata": {},
   "source": [
    "**Methodology**\n",
    "\n",
    "- **Definition**: \n",
    "   - A positive response (1) = should send this offer to this user. \n",
    "   - A negative response (0) = no need to send this offer to this user. \n",
    "   - An unclear response (NAN) = unclear because the user doesn't view the offer \n",
    "\n",
    "- For **informational-type offers (2, 7)**: \n",
    "   - The response is considered positive if the user views the offer and then makes a purchase within the offer duration (96hr for offer 2, 72hr for offer 7). \n",
    "   - The response is negative if the user views the offer but does not make any purchase within the duration. \n",
    "   - If the user does not view the offer, the response is labrled \"NAN\" (unclear) given that the user is not even aware of the offer.\n",
    "\n",
    "- For **other offer (0,1,3,4,5,8,9)**: \n",
    "   - The response is considered positive if the user views the offer and completes the offer \"task\". \n",
    "   - However, if there is any record of completing the \"task\" without viewing, then the response is considered negative. This is because the user will probably purchase the product even without the offer in this case. \n",
    "   - If the user views the offer but does not complete the task, it is also considered as negative response.\n",
    "   - If the user doesn't view the offer nor complete the task, it is considered as unclear response."
   ]
  },
  {
   "cell_type": "code",
   "execution_count": 22,
   "metadata": {},
   "outputs": [],
   "source": [
    "def define_user_response(offer_id, transcript_offer=transcript_offer, transcript=transcript):\n",
    "    '''\n",
    "    Input:\n",
    "    \n",
    "    Output:\n",
    "    user_received - an array of user id for those who received this offer\n",
    "    \n",
    "    response_list - a list of response for all users that received this offer\n",
    "                    1- positive, should send this offer to this user\n",
    "                    0- negative, no need to send this offer to this user\n",
    "                    NAN - response is unclear because the user never viewed this offer\n",
    "                    Note that if a user never viewed the offer but complete task, then response is 0\n",
    "                    This indicates the user did not need offer motivation to make purchase\n",
    "                    \n",
    "    Definition of positive response: see the markdown cell above on methodology\n",
    "    \n",
    "    '''\n",
    "    \n",
    "    # get the subset of transcript dataframe that is about records of this specific offer\n",
    "    offer_record = transcript_offer[transcript_offer['offer_id']==offer_id]\n",
    "    # get an array of the user id for all users that receive this offer   \n",
    "    user_received = offer_record['person'].unique()\n",
    "    # create the list for recording every user's response to this offer\n",
    "    response_list = []\n",
    "    \n",
    "    # as explained in above methodology section, use a different criteria for informational type offer (2,7)\n",
    "    if offer_id in [2,7]:\n",
    "        \n",
    "        for user in user_received:\n",
    "            # create a subset of the offer record that is about this specific user\n",
    "            record = offer_record[offer_record['person']==user]\n",
    "            # create a subset of the transaction record that is about this specific user            \n",
    "            record_trans = transcript[(transcript['person']==user) & (transcript['event']=='transaction')]\n",
    "            # find the time that this user receives this offer, note that the user can receive it multiple times\n",
    "            t_received = record[record['event']=='offer received']['time'].values\n",
    "            # initialize total view/transaction count\n",
    "            tot_viewed = 0\n",
    "            tot_trans = 0\n",
    "            \n",
    "            # dt is offer duration. offer 2 duration is 96hrs, offer 7 duration is 72hrs\n",
    "            if offer_id == 2: dt=96\n",
    "            else: dt=72\n",
    "            \n",
    "            # iterate through each offer receival \n",
    "            for i in range(len(t_received)):\n",
    "                t = t_received[i]\n",
    "                # find out if the user views the offer within offer duration\n",
    "                viewed = record[(record['event']=='offer viewed')\n",
    "                                      & (record['time']>t) \n",
    "                                      & (record['time']<(t+dt))]\n",
    "                \n",
    "                # find out if the user makes any transaction within offer duration\n",
    "                transaction = record_trans[(record_trans['time']>t) & (record_trans['time']<(t+dt))]\n",
    "            \n",
    "                if len(viewed)>0: tot_viewed+=1\n",
    "                if len(transaction)>0: tot_trans+=1\n",
    "            \n",
    "            # if the user never views this offer, record NAN\n",
    "            if tot_viewed==0:\n",
    "                response_list.append(np.nan)\n",
    "            # if the user has viewed the offer but makes no transaction within duration, record 0\n",
    "            elif (tot_viewed>0) & (tot_trans==0):\n",
    "                response_list.append(0)\n",
    "            # if the user has viewed the offer and makes at least one transaction within duration, record 1\n",
    "            else:\n",
    "                response_list.append(1)    \n",
    "                \n",
    "    # below code is for offer type 0,1,3,4,5,6,8,9 (offer with a completion criteria)   \n",
    "    else:    \n",
    "        for person in user_received:\n",
    "            # create a subset of the offer record that is about this specific user            \n",
    "            record = offer_record[offer_record['person']==person]\n",
    "            # count how many times the user has viewed this offer \n",
    "            viewed = len(record[record['event']=='offer viewed'])\n",
    "            # count how many times the user has completed this offer             \n",
    "            completed = len(record[record['event']=='offer completed'])\n",
    "                \n",
    "            # if the user did not view the offer nor complete the task, we don't know if they would like the offer\n",
    "            # in these cases, user's response is unclear, so label as NAN (invalid outcome)\n",
    "            if (viewed==0) & (completed==0):\n",
    "                response_list.append(np.nan)\n",
    "        \n",
    "            # if the user at least once completed the task, even if they didn't complete in other times, still good\n",
    "            # in these cases, user's response is positive, so label is 1 (should send offer)\n",
    "            elif (viewed>=completed) & (completed>0):\n",
    "                response_list.append(1)\n",
    "            \n",
    "            # if viewed < completed, it indicates the user at least once completed the task without knowing the offer\n",
    "            # in these cases, no need to \"motivate\" the user by this offer, so label is 0 (should not send offer)\n",
    "            else:\n",
    "                response_list.append(0)\n",
    "                \n",
    "    return user_received, response_list\n"
   ]
  },
  {
   "cell_type": "code",
   "execution_count": 32,
   "metadata": {},
   "outputs": [
    {
     "name": "stdout",
     "output_type": "stream",
     "text": [
      "Complete creating records for offer id 0\n",
      "Complete creating records for offer id 1\n",
      "Complete creating records for offer id 2\n",
      "Complete creating records for offer id 3\n",
      "Complete creating records for offer id 4\n",
      "Complete creating records for offer id 5\n",
      "Complete creating records for offer id 6\n",
      "Complete creating records for offer id 7\n",
      "Complete creating records for offer id 8\n",
      "Complete creating records for offer id 9\n"
     ]
    },
    {
     "data": {
      "text/html": [
       "<div>\n",
       "<style scoped>\n",
       "    .dataframe tbody tr th:only-of-type {\n",
       "        vertical-align: middle;\n",
       "    }\n",
       "\n",
       "    .dataframe tbody tr th {\n",
       "        vertical-align: top;\n",
       "    }\n",
       "\n",
       "    .dataframe thead th {\n",
       "        text-align: right;\n",
       "    }\n",
       "</style>\n",
       "<table border=\"1\" class=\"dataframe\">\n",
       "  <thead>\n",
       "    <tr style=\"text-align: right;\">\n",
       "      <th></th>\n",
       "      <th>0</th>\n",
       "      <th>1</th>\n",
       "      <th>2</th>\n",
       "      <th>3</th>\n",
       "      <th>4</th>\n",
       "      <th>5</th>\n",
       "      <th>6</th>\n",
       "      <th>7</th>\n",
       "      <th>8</th>\n",
       "      <th>9</th>\n",
       "    </tr>\n",
       "  </thead>\n",
       "  <tbody>\n",
       "    <tr>\n",
       "      <th>0</th>\n",
       "      <td>NaN</td>\n",
       "      <td>NaN</td>\n",
       "      <td>NaN</td>\n",
       "      <td>NaN</td>\n",
       "      <td>0.0</td>\n",
       "      <td>1.0</td>\n",
       "      <td>1.0</td>\n",
       "      <td>NaN</td>\n",
       "      <td>NaN</td>\n",
       "      <td>0.0</td>\n",
       "    </tr>\n",
       "    <tr>\n",
       "      <th>1</th>\n",
       "      <td>NaN</td>\n",
       "      <td>NaN</td>\n",
       "      <td>NaN</td>\n",
       "      <td>0.0</td>\n",
       "      <td>NaN</td>\n",
       "      <td>NaN</td>\n",
       "      <td>NaN</td>\n",
       "      <td>NaN</td>\n",
       "      <td>NaN</td>\n",
       "      <td>NaN</td>\n",
       "    </tr>\n",
       "    <tr>\n",
       "      <th>2</th>\n",
       "      <td>NaN</td>\n",
       "      <td>NaN</td>\n",
       "      <td>NaN</td>\n",
       "      <td>0.0</td>\n",
       "      <td>NaN</td>\n",
       "      <td>NaN</td>\n",
       "      <td>NaN</td>\n",
       "      <td>NaN</td>\n",
       "      <td>NaN</td>\n",
       "      <td>NaN</td>\n",
       "    </tr>\n",
       "    <tr>\n",
       "      <th>3</th>\n",
       "      <td>1.0</td>\n",
       "      <td>NaN</td>\n",
       "      <td>NaN</td>\n",
       "      <td>1.0</td>\n",
       "      <td>NaN</td>\n",
       "      <td>NaN</td>\n",
       "      <td>NaN</td>\n",
       "      <td>1.0</td>\n",
       "      <td>1.0</td>\n",
       "      <td>NaN</td>\n",
       "    </tr>\n",
       "    <tr>\n",
       "      <th>4</th>\n",
       "      <td>NaN</td>\n",
       "      <td>NaN</td>\n",
       "      <td>NaN</td>\n",
       "      <td>NaN</td>\n",
       "      <td>0.0</td>\n",
       "      <td>NaN</td>\n",
       "      <td>NaN</td>\n",
       "      <td>NaN</td>\n",
       "      <td>NaN</td>\n",
       "      <td>NaN</td>\n",
       "    </tr>\n",
       "  </tbody>\n",
       "</table>\n",
       "</div>"
      ],
      "text/plain": [
       "     0   1   2    3    4    5    6    7    8    9\n",
       "0  NaN NaN NaN  NaN  0.0  1.0  1.0  NaN  NaN  0.0\n",
       "1  NaN NaN NaN  0.0  NaN  NaN  NaN  NaN  NaN  NaN\n",
       "2  NaN NaN NaN  0.0  NaN  NaN  NaN  NaN  NaN  NaN\n",
       "3  1.0 NaN NaN  1.0  NaN  NaN  NaN  1.0  1.0  NaN\n",
       "4  NaN NaN NaN  NaN  0.0  NaN  NaN  NaN  NaN  NaN"
      ]
     },
     "execution_count": 32,
     "metadata": {},
     "output_type": "execute_result"
    }
   ],
   "source": [
    "# create a user response dataframe for training machine learning model\n",
    "\n",
    "# all users that have received at least one offer\n",
    "all_user_id = transcript_offer['person'].unique()\n",
    "# all offer ids: 0~9\n",
    "all_offer_id = portfolio['offer_id'].values\n",
    "# create an empty dataframe, indexing by all user id\n",
    "offer_df = pd.DataFrame(index=all_user_id)\n",
    "\n",
    "for offer_id in all_offer_id:\n",
    "    \n",
    "    user_received, response_list = define_user_response(offer_id)\n",
    "    # create a dataframe for response of each offer type\n",
    "    offer_column = pd.DataFrame(response_list, index=user_received, columns=[offer_id])\n",
    "    # merge all dataframe for all offer types, merging by user_id as key\n",
    "    offer_df = offer_df.merge(offer_column, how='outer', left_index=True, right_index=True)\n",
    "    \n",
    "    print('Complete creating records for offer id {}'.format(offer_id))\n",
    "\n",
    "offer_df.head()"
   ]
  },
  {
   "cell_type": "code",
   "execution_count": 97,
   "metadata": {},
   "outputs": [
    {
     "data": {
      "image/png": "[encoded data removed]",
      "text/plain": [
       "<Figure size 432x288 with 1 Axes>"
      ]
     },
     "metadata": {
      "needs_background": "light"
     },
     "output_type": "display_data"
    }
   ],
   "source": [
    "# Count the number of positive/negative responses for each offer type\n",
    "# tot is the same for all offer type, this is just a consistency check\n",
    "\n",
    "response_distribution = []\n",
    "\n",
    "for i in range(10):\n",
    "    n_1 = len(offer_df[offer_df[i]==1])\n",
    "    n_0 = len(offer_df[offer_df[i]==0])\n",
    "    n_nan = offer_df[i].isnull().sum()\n",
    "    tot = n_nan+n_1+n_0\n",
    "    response_distribution.append((n_1,n_0,n_nan,tot))\n",
    "\n",
    "n_1 = [n_1 for n_1,n_0,n_nan,n_tot in response_distribution]  \n",
    "n_0 = [n_0 for n_1,n_0,n_nan,n_tot in response_distribution]\n",
    "\n",
    "\n",
    "# Visualization of the results\n",
    "def plot_user_response(n_1=n_1, n_0=n_0):\n",
    "    ''' \n",
    "    Input:\n",
    "    n_1: a list of user count for positive response, length=10\n",
    "    n_0: a list of user count for negative response, length=10\n",
    "    This function makes bar chart for showcasing positive/negative response comparison for all offer types\n",
    "    '''\n",
    "    ind = np.arange(10)  \n",
    "    width = 0.30       \n",
    "    fig = plt.figure()\n",
    "    ax = fig.add_subplot(111)\n",
    "    bar_rf = ax.bar(ind, n_1, width, color='seagreen')\n",
    "    bar_sgd = ax.bar(ind+width, n_0, width, color='orange')\n",
    "\n",
    "    ax.set_xlabel('Offer type')\n",
    "    ax.set_ylabel('User count')\n",
    "    ax.set_xticks(ind)\n",
    "    ax.set_xticklabels( ('0','1','2','3','4','5','6','7','8','9') )\n",
    "    ax.legend( ('positive(1)', 'negative(0)') )\n",
    "\n",
    "plot_user_response(n_1, n_0) "
   ]
  },
  {
   "cell_type": "markdown",
   "metadata": {},
   "source": [
    "# 3. Modeling and evaluation"
   ]
  },
  {
   "cell_type": "markdown",
   "metadata": {},
   "source": [
    "- **Model input(features)**: user gender, age group, membership history group (how long as a member), income group\n",
    "- **Model output(labels)**: 1 (should send this offer), 0 (no need to send this offer)\n",
    "- In the previous section, the methodology for determining user's response has been illustrated. In this section, I will split the available data into train and test set, and train several classifiers for predicting offer-user interaction. \n",
    "- **The evaluation metric is F1 score for predicting positive responses on each of the offer type**. F1 score is chosen because it reflects a balance between precision and recall and it is suitable in this scenario.\n",
    "- Classification for each of the offer type will be considered separately (10 different offers), and different classifiers may be chosen as the best classifier for different offer types."
   ]
  },
  {
   "cell_type": "code",
   "execution_count": 34,
   "metadata": {},
   "outputs": [],
   "source": [
    "# create a dataframe for all dummy variables, this will be the feature dataframe as model input\n",
    "X_user = pd.get_dummies(profile[['gender','age_group','membership_group','income_group']])\n",
    "# set dataframe index as user_id\n",
    "X_user.index = profile['user_id']\n",
    "\n",
    "# only consider users who at least receive one offer (only 6 users did not receive any)\n",
    "user_with_record = set(X_user.index).intersection(offer_df.index)\n",
    "\n",
    "# update the X_user (X) and offer_df (Y) dataframe to have only users that receive offer \n",
    "# & keep user id sequencing the same for X,Y\n",
    "X_user = X_user.loc[user_with_record]\n",
    "offer_df = offer_df.loc[user_with_record]\n",
    "\n",
    "# train, test split, preparing for the multi-output machine learning model training\n",
    "X_train,X_test,Y_train,Y_test = train_test_split(X_user, offer_df, random_state=1)"
   ]
  },
  {
   "cell_type": "code",
   "execution_count": 35,
   "metadata": {},
   "outputs": [],
   "source": [
    "# There are many NAN value in the Y_train dataframe as not everybody has a response for every type of offer\n",
    "# A way is to fill all the NAN using FunkSVD method, interpolating missing response based on known responses\n",
    "# Note that this is ONLY done for TRAIN set. For TEST set, we will only evaluate actual responses!\n",
    "\n",
    "# Define a function to perform FunkSVD on the Y_train (user-response matrix)\n",
    "def FunkSVD(input_mat, latent_features=8, learning_rate=0.01, iters=500):\n",
    "    '''\n",
    "    This function performs matrix factorization using a basic form of FunkSVD with no regularization\n",
    "    \n",
    "    INPUT:\n",
    "    input_mat - (numpy array) a matrix with users as rows, movies as columns, and ratings as values\n",
    "    latent_features - (int) the number of latent features used\n",
    "    learning_rate - (float) the learning rate \n",
    "    iters - (int) the number of iterations\n",
    "    \n",
    "    OUTPUT:\n",
    "    user_mat - (numpy array) a user by latent feature matrix\n",
    "    response_mat - (numpy array) a latent feature by movie matrix\n",
    "    '''\n",
    "    \n",
    "    # Set up useful values to be used through the rest of the function\n",
    "    n_users = input_mat.shape[0]\n",
    "    n_response = input_mat.shape[1]\n",
    "    num_record = np.count_nonzero(~np.isnan(input_mat))\n",
    "    \n",
    "    # initialize the user and response matrices with random values\n",
    "    user_mat = np.random.rand(n_users,latent_features)\n",
    "    response_mat = np.random.rand(latent_features,n_response)\n",
    "    \n",
    "    # initialize sse at 0 for first iteration\n",
    "    sse_accum = 0\n",
    "    \n",
    "    # header for running results\n",
    "    print(\"Optimization Statistics\")\n",
    "    print(\"Iterations | Mean Squared Error \")\n",
    "    \n",
    "    # for each iteration\n",
    "    for _n in range(iters):\n",
    "        # update our sse\n",
    "        old_sse = sse_accum\n",
    "        sse_accum = 0\n",
    "        for x in range(n_users):\n",
    "            for y in range(n_response):\n",
    "                if input_mat[x, y] >= 0:\n",
    "                    error = input_mat[x,y]-np.dot(user_mat[x,:], response_mat[:,y])\n",
    "                    sse_accum += error**2\n",
    "                    for i in range(latent_features):\n",
    "                        user_mat[x,i] += 2*learning_rate*error*response_mat[i,y]\n",
    "                        response_mat[i,y] += 2*learning_rate*error*user_mat[x,i]\n",
    "                else:\n",
    "                    continue\n",
    "        if _n%50 ==0:\n",
    "            print('{}, {}'.format(_n, sse_accum))\n",
    "        \n",
    "    return user_mat, response_mat "
   ]
  },
  {
   "cell_type": "code",
   "execution_count": 36,
   "metadata": {},
   "outputs": [
    {
     "name": "stdout",
     "output_type": "stream",
     "text": [
      "Optimization Statistics\n",
      "Iterations | Mean Squared Error \n",
      "0, 10162.46517028669\n",
      "50, 4414.8024738275635\n",
      "100, 959.2614299062795\n",
      "150, 263.38959954757365\n",
      "200, 77.71471846692907\n",
      "250, 26.56656867403856\n",
      "300, 11.404812889386463\n",
      "350, 6.100150801576582\n",
      "400, 3.878242297212764\n",
      "450, 2.7587169424105715\n"
     ]
    },
    {
     "data": {
      "text/html": [
       "<div>\n",
       "<style scoped>\n",
       "    .dataframe tbody tr th:only-of-type {\n",
       "        vertical-align: middle;\n",
       "    }\n",
       "\n",
       "    .dataframe tbody tr th {\n",
       "        vertical-align: top;\n",
       "    }\n",
       "\n",
       "    .dataframe thead th {\n",
       "        text-align: right;\n",
       "    }\n",
       "</style>\n",
       "<table border=\"1\" class=\"dataframe\">\n",
       "  <thead>\n",
       "    <tr style=\"text-align: right;\">\n",
       "      <th></th>\n",
       "      <th>0</th>\n",
       "      <th>1</th>\n",
       "      <th>2</th>\n",
       "      <th>3</th>\n",
       "      <th>4</th>\n",
       "      <th>5</th>\n",
       "      <th>6</th>\n",
       "      <th>7</th>\n",
       "      <th>8</th>\n",
       "      <th>9</th>\n",
       "    </tr>\n",
       "    <tr>\n",
       "      <th>user_id</th>\n",
       "      <th></th>\n",
       "      <th></th>\n",
       "      <th></th>\n",
       "      <th></th>\n",
       "      <th></th>\n",
       "      <th></th>\n",
       "      <th></th>\n",
       "      <th></th>\n",
       "      <th></th>\n",
       "      <th></th>\n",
       "    </tr>\n",
       "  </thead>\n",
       "  <tbody>\n",
       "    <tr>\n",
       "      <th>13363</th>\n",
       "      <td>-0.0</td>\n",
       "      <td>0.0</td>\n",
       "      <td>1.0</td>\n",
       "      <td>0.0</td>\n",
       "      <td>1.0</td>\n",
       "      <td>0.0</td>\n",
       "      <td>1.0</td>\n",
       "      <td>1.0</td>\n",
       "      <td>0.0</td>\n",
       "      <td>0.0</td>\n",
       "    </tr>\n",
       "    <tr>\n",
       "      <th>13903</th>\n",
       "      <td>1.0</td>\n",
       "      <td>1.0</td>\n",
       "      <td>1.0</td>\n",
       "      <td>0.0</td>\n",
       "      <td>1.0</td>\n",
       "      <td>0.0</td>\n",
       "      <td>1.0</td>\n",
       "      <td>0.0</td>\n",
       "      <td>0.0</td>\n",
       "      <td>-0.0</td>\n",
       "    </tr>\n",
       "    <tr>\n",
       "      <th>11178</th>\n",
       "      <td>0.0</td>\n",
       "      <td>0.0</td>\n",
       "      <td>0.0</td>\n",
       "      <td>-0.0</td>\n",
       "      <td>0.0</td>\n",
       "      <td>0.0</td>\n",
       "      <td>-0.0</td>\n",
       "      <td>0.0</td>\n",
       "      <td>-0.0</td>\n",
       "      <td>-0.0</td>\n",
       "    </tr>\n",
       "    <tr>\n",
       "      <th>3571</th>\n",
       "      <td>-0.0</td>\n",
       "      <td>-0.0</td>\n",
       "      <td>0.0</td>\n",
       "      <td>-0.0</td>\n",
       "      <td>0.0</td>\n",
       "      <td>0.0</td>\n",
       "      <td>-0.0</td>\n",
       "      <td>0.0</td>\n",
       "      <td>0.0</td>\n",
       "      <td>0.0</td>\n",
       "    </tr>\n",
       "    <tr>\n",
       "      <th>3672</th>\n",
       "      <td>1.0</td>\n",
       "      <td>1.0</td>\n",
       "      <td>0.0</td>\n",
       "      <td>1.0</td>\n",
       "      <td>1.0</td>\n",
       "      <td>1.0</td>\n",
       "      <td>1.0</td>\n",
       "      <td>1.0</td>\n",
       "      <td>1.0</td>\n",
       "      <td>1.0</td>\n",
       "    </tr>\n",
       "  </tbody>\n",
       "</table>\n",
       "</div>"
      ],
      "text/plain": [
       "           0    1    2    3    4    5    6    7    8    9\n",
       "user_id                                                  \n",
       "13363   -0.0  0.0  1.0  0.0  1.0  0.0  1.0  1.0  0.0  0.0\n",
       "13903    1.0  1.0  1.0  0.0  1.0  0.0  1.0  0.0  0.0 -0.0\n",
       "11178    0.0  0.0  0.0 -0.0  0.0  0.0 -0.0  0.0 -0.0 -0.0\n",
       "3571    -0.0 -0.0  0.0 -0.0  0.0  0.0 -0.0  0.0  0.0  0.0\n",
       "3672     1.0  1.0  0.0  1.0  1.0  1.0  1.0  1.0  1.0  1.0"
      ]
     },
     "execution_count": 36,
     "metadata": {},
     "output_type": "execute_result"
    }
   ],
   "source": [
    "# convert dataframe to matrix\n",
    "Y_train_mat = np.array(Y_train)\n",
    "# compute the U and VT matrix using FunkSVD function above\n",
    "user_mat, response_mat = FunkSVD(Y_train_mat, latent_features=8, iters=500)\n",
    "# generate the Y_train matrix with all filled values\n",
    "Y_train_filled = np.around(np.dot(user_mat,response_mat))\n",
    "# set predicted response <0 as 0, >1 as 1\n",
    "Y_train_filled[Y_train_filled<0] = 0\n",
    "Y_train_filled[Y_train_filled>1] = 1\n",
    "\n",
    "# convert numpy array to dataframe with user_id as index\n",
    "Y_train_filled = pd.DataFrame(Y_train_filled, index=X_train.index)\n",
    "Y_train_filled.head()"
   ]
  },
  {
   "cell_type": "code",
   "execution_count": 38,
   "metadata": {},
   "outputs": [
    {
     "data": {
      "text/plain": [
       "GridSearchCV(cv=3,\n",
       "             estimator=MultiOutputClassifier(estimator=RandomForestClassifier(class_weight='balanced',\n",
       "                                                                              random_state=2)),\n",
       "             param_grid={'estimator__class_weight': ['balanced', None],\n",
       "                         'estimator__n_estimators': [200, 300, 400]},\n",
       "             scoring='f1_weighted')"
      ]
     },
     "execution_count": 38,
     "metadata": {},
     "output_type": "execute_result"
    }
   ],
   "source": [
    "# train and optimise a random forest classifier using GridSearchCV\n",
    "clf_rf = MultiOutputClassifier(RandomForestClassifier(n_estimators=100, \n",
    "                                                      random_state=2, \n",
    "                                                      class_weight='balanced'))\n",
    "\n",
    "parameters = {\n",
    "              'estimator__n_estimators': [200, 300, 400],\n",
    "              'estimator__class_weight': ['balanced', None]\n",
    "             }\n",
    "    \n",
    "cv = GridSearchCV(clf_rf, param_grid=parameters, cv=3, scoring='f1_weighted')\n",
    "\n",
    "cv.fit(X_train,Y_train_filled)"
   ]
  },
  {
   "cell_type": "code",
   "execution_count": 42,
   "metadata": {},
   "outputs": [
    {
     "name": "stdout",
     "output_type": "stream",
     "text": [
      "{'estimator__class_weight': None, 'estimator__n_estimators': 400}\n",
      "0.6682089704617283\n"
     ]
    },
    {
     "data": {
      "text/html": [
       "<div>\n",
       "<style scoped>\n",
       "    .dataframe tbody tr th:only-of-type {\n",
       "        vertical-align: middle;\n",
       "    }\n",
       "\n",
       "    .dataframe tbody tr th {\n",
       "        vertical-align: top;\n",
       "    }\n",
       "\n",
       "    .dataframe thead th {\n",
       "        text-align: right;\n",
       "    }\n",
       "</style>\n",
       "<table border=\"1\" class=\"dataframe\">\n",
       "  <thead>\n",
       "    <tr style=\"text-align: right;\">\n",
       "      <th></th>\n",
       "      <th>param_estimator__class_weight</th>\n",
       "      <th>param_estimator__n_estimators</th>\n",
       "      <th>mean_test_score</th>\n",
       "      <th>std_test_score</th>\n",
       "      <th>rank_test_score</th>\n",
       "    </tr>\n",
       "  </thead>\n",
       "  <tbody>\n",
       "    <tr>\n",
       "      <th>0</th>\n",
       "      <td>balanced</td>\n",
       "      <td>200</td>\n",
       "      <td>0.617890</td>\n",
       "      <td>0.001703</td>\n",
       "      <td>5</td>\n",
       "    </tr>\n",
       "    <tr>\n",
       "      <th>1</th>\n",
       "      <td>balanced</td>\n",
       "      <td>300</td>\n",
       "      <td>0.617869</td>\n",
       "      <td>0.001833</td>\n",
       "      <td>6</td>\n",
       "    </tr>\n",
       "    <tr>\n",
       "      <th>2</th>\n",
       "      <td>balanced</td>\n",
       "      <td>400</td>\n",
       "      <td>0.618219</td>\n",
       "      <td>0.001213</td>\n",
       "      <td>4</td>\n",
       "    </tr>\n",
       "    <tr>\n",
       "      <th>3</th>\n",
       "      <td>None</td>\n",
       "      <td>200</td>\n",
       "      <td>0.667337</td>\n",
       "      <td>0.002876</td>\n",
       "      <td>3</td>\n",
       "    </tr>\n",
       "    <tr>\n",
       "      <th>4</th>\n",
       "      <td>None</td>\n",
       "      <td>300</td>\n",
       "      <td>0.667512</td>\n",
       "      <td>0.002569</td>\n",
       "      <td>2</td>\n",
       "    </tr>\n",
       "    <tr>\n",
       "      <th>5</th>\n",
       "      <td>None</td>\n",
       "      <td>400</td>\n",
       "      <td>0.668209</td>\n",
       "      <td>0.003063</td>\n",
       "      <td>1</td>\n",
       "    </tr>\n",
       "  </tbody>\n",
       "</table>\n",
       "</div>"
      ],
      "text/plain": [
       "  param_estimator__class_weight param_estimator__n_estimators  \\\n",
       "0                      balanced                           200   \n",
       "1                      balanced                           300   \n",
       "2                      balanced                           400   \n",
       "3                          None                           200   \n",
       "4                          None                           300   \n",
       "5                          None                           400   \n",
       "\n",
       "   mean_test_score  std_test_score  rank_test_score  \n",
       "0         0.617890        0.001703                5  \n",
       "1         0.617869        0.001833                6  \n",
       "2         0.618219        0.001213                4  \n",
       "3         0.667337        0.002876                3  \n",
       "4         0.667512        0.002569                2  \n",
       "5         0.668209        0.003063                1  "
      ]
     },
     "execution_count": 42,
     "metadata": {},
     "output_type": "execute_result"
    }
   ],
   "source": [
    "cv_df = pd.DataFrame(cv.cv_results_)\n",
    "# find the parameters for the best estimator\n",
    "print(cv.best_params_)\n",
    "print(cv.best_score_)\n",
    "\n",
    "outcome_rf = cv_df[['param_estimator__class_weight','param_estimator__n_estimators','mean_test_score','std_test_score','rank_test_score']]\n",
    "outcome_rf"
   ]
  },
  {
   "cell_type": "code",
   "execution_count": 43,
   "metadata": {},
   "outputs": [
    {
     "data": {
      "text/plain": [
       "GridSearchCV(cv=3,\n",
       "             estimator=MultiOutputClassifier(estimator=SGDClassifier(loss='log')),\n",
       "             param_grid={'estimator__alpha': [0.0001, 0.001, 0.01, 0.05, 0.1],\n",
       "                         'estimator__class_weight': ['balanced', None],\n",
       "                         'estimator__loss': ['hinge', 'log']},\n",
       "             scoring='f1_weighted')"
      ]
     },
     "execution_count": 43,
     "metadata": {},
     "output_type": "execute_result"
    }
   ],
   "source": [
    "# train and optimise a SGD classifier using GridSearchCV\n",
    "\n",
    "clf_sgd = MultiOutputClassifier(SGDClassifier(loss='log'))\n",
    "\n",
    "parameters = {\n",
    "              'estimator__loss': ['hinge','log'],\n",
    "              'estimator__alpha': [0.0001, 0.001, 0.01, 0.05, 0.1],\n",
    "              'estimator__class_weight': ['balanced', None]  \n",
    "             }\n",
    "    \n",
    "cv_sgd = GridSearchCV(clf_sgd, param_grid=parameters, cv=3, scoring='f1_weighted')\n",
    "\n",
    "cv_sgd.fit(X_train,Y_train_filled)"
   ]
  },
  {
   "cell_type": "code",
   "execution_count": 47,
   "metadata": {},
   "outputs": [
    {
     "name": "stdout",
     "output_type": "stream",
     "text": [
      "{'estimator__alpha': 0.05, 'estimator__class_weight': 'balanced', 'estimator__loss': 'hinge'}\n",
      "0.6763999939296409\n"
     ]
    },
    {
     "data": {
      "text/html": [
       "<div>\n",
       "<style scoped>\n",
       "    .dataframe tbody tr th:only-of-type {\n",
       "        vertical-align: middle;\n",
       "    }\n",
       "\n",
       "    .dataframe tbody tr th {\n",
       "        vertical-align: top;\n",
       "    }\n",
       "\n",
       "    .dataframe thead th {\n",
       "        text-align: right;\n",
       "    }\n",
       "</style>\n",
       "<table border=\"1\" class=\"dataframe\">\n",
       "  <thead>\n",
       "    <tr style=\"text-align: right;\">\n",
       "      <th></th>\n",
       "      <th>param_estimator__alpha</th>\n",
       "      <th>param_estimator__class_weight</th>\n",
       "      <th>param_estimator__loss</th>\n",
       "      <th>mean_test_score</th>\n",
       "      <th>std_test_score</th>\n",
       "      <th>rank_test_score</th>\n",
       "    </tr>\n",
       "  </thead>\n",
       "  <tbody>\n",
       "    <tr>\n",
       "      <th>0</th>\n",
       "      <td>0.0001</td>\n",
       "      <td>balanced</td>\n",
       "      <td>hinge</td>\n",
       "      <td>0.629164</td>\n",
       "      <td>0.009104</td>\n",
       "      <td>18</td>\n",
       "    </tr>\n",
       "    <tr>\n",
       "      <th>1</th>\n",
       "      <td>0.0001</td>\n",
       "      <td>balanced</td>\n",
       "      <td>log</td>\n",
       "      <td>0.644920</td>\n",
       "      <td>0.008880</td>\n",
       "      <td>14</td>\n",
       "    </tr>\n",
       "    <tr>\n",
       "      <th>2</th>\n",
       "      <td>0.0001</td>\n",
       "      <td>None</td>\n",
       "      <td>hinge</td>\n",
       "      <td>0.654327</td>\n",
       "      <td>0.013485</td>\n",
       "      <td>13</td>\n",
       "    </tr>\n",
       "    <tr>\n",
       "      <th>3</th>\n",
       "      <td>0.0001</td>\n",
       "      <td>None</td>\n",
       "      <td>log</td>\n",
       "      <td>0.660928</td>\n",
       "      <td>0.016174</td>\n",
       "      <td>8</td>\n",
       "    </tr>\n",
       "    <tr>\n",
       "      <th>4</th>\n",
       "      <td>0.001</td>\n",
       "      <td>balanced</td>\n",
       "      <td>hinge</td>\n",
       "      <td>0.641978</td>\n",
       "      <td>0.007103</td>\n",
       "      <td>15</td>\n",
       "    </tr>\n",
       "    <tr>\n",
       "      <th>5</th>\n",
       "      <td>0.001</td>\n",
       "      <td>balanced</td>\n",
       "      <td>log</td>\n",
       "      <td>0.638036</td>\n",
       "      <td>0.011483</td>\n",
       "      <td>16</td>\n",
       "    </tr>\n",
       "    <tr>\n",
       "      <th>6</th>\n",
       "      <td>0.001</td>\n",
       "      <td>None</td>\n",
       "      <td>hinge</td>\n",
       "      <td>0.673404</td>\n",
       "      <td>0.002137</td>\n",
       "      <td>3</td>\n",
       "    </tr>\n",
       "    <tr>\n",
       "      <th>7</th>\n",
       "      <td>0.001</td>\n",
       "      <td>None</td>\n",
       "      <td>log</td>\n",
       "      <td>0.670131</td>\n",
       "      <td>0.008665</td>\n",
       "      <td>4</td>\n",
       "    </tr>\n",
       "    <tr>\n",
       "      <th>8</th>\n",
       "      <td>0.01</td>\n",
       "      <td>balanced</td>\n",
       "      <td>hinge</td>\n",
       "      <td>0.661155</td>\n",
       "      <td>0.011650</td>\n",
       "      <td>7</td>\n",
       "    </tr>\n",
       "    <tr>\n",
       "      <th>9</th>\n",
       "      <td>0.01</td>\n",
       "      <td>balanced</td>\n",
       "      <td>log</td>\n",
       "      <td>0.657398</td>\n",
       "      <td>0.000858</td>\n",
       "      <td>10</td>\n",
       "    </tr>\n",
       "    <tr>\n",
       "      <th>10</th>\n",
       "      <td>0.01</td>\n",
       "      <td>None</td>\n",
       "      <td>hinge</td>\n",
       "      <td>0.664279</td>\n",
       "      <td>0.003230</td>\n",
       "      <td>6</td>\n",
       "    </tr>\n",
       "    <tr>\n",
       "      <th>11</th>\n",
       "      <td>0.01</td>\n",
       "      <td>None</td>\n",
       "      <td>log</td>\n",
       "      <td>0.673696</td>\n",
       "      <td>0.005869</td>\n",
       "      <td>2</td>\n",
       "    </tr>\n",
       "    <tr>\n",
       "      <th>12</th>\n",
       "      <td>0.05</td>\n",
       "      <td>balanced</td>\n",
       "      <td>hinge</td>\n",
       "      <td>0.676400</td>\n",
       "      <td>0.004185</td>\n",
       "      <td>1</td>\n",
       "    </tr>\n",
       "    <tr>\n",
       "      <th>13</th>\n",
       "      <td>0.05</td>\n",
       "      <td>balanced</td>\n",
       "      <td>log</td>\n",
       "      <td>0.654725</td>\n",
       "      <td>0.003356</td>\n",
       "      <td>12</td>\n",
       "    </tr>\n",
       "    <tr>\n",
       "      <th>14</th>\n",
       "      <td>0.05</td>\n",
       "      <td>None</td>\n",
       "      <td>hinge</td>\n",
       "      <td>0.613266</td>\n",
       "      <td>0.007651</td>\n",
       "      <td>19</td>\n",
       "    </tr>\n",
       "    <tr>\n",
       "      <th>15</th>\n",
       "      <td>0.05</td>\n",
       "      <td>None</td>\n",
       "      <td>log</td>\n",
       "      <td>0.657457</td>\n",
       "      <td>0.004726</td>\n",
       "      <td>9</td>\n",
       "    </tr>\n",
       "    <tr>\n",
       "      <th>16</th>\n",
       "      <td>0.1</td>\n",
       "      <td>balanced</td>\n",
       "      <td>hinge</td>\n",
       "      <td>0.667171</td>\n",
       "      <td>0.029183</td>\n",
       "      <td>5</td>\n",
       "    </tr>\n",
       "    <tr>\n",
       "      <th>17</th>\n",
       "      <td>0.1</td>\n",
       "      <td>balanced</td>\n",
       "      <td>log</td>\n",
       "      <td>0.655752</td>\n",
       "      <td>0.005040</td>\n",
       "      <td>11</td>\n",
       "    </tr>\n",
       "    <tr>\n",
       "      <th>18</th>\n",
       "      <td>0.1</td>\n",
       "      <td>None</td>\n",
       "      <td>hinge</td>\n",
       "      <td>0.591141</td>\n",
       "      <td>0.001834</td>\n",
       "      <td>20</td>\n",
       "    </tr>\n",
       "    <tr>\n",
       "      <th>19</th>\n",
       "      <td>0.1</td>\n",
       "      <td>None</td>\n",
       "      <td>log</td>\n",
       "      <td>0.636091</td>\n",
       "      <td>0.003432</td>\n",
       "      <td>17</td>\n",
       "    </tr>\n",
       "  </tbody>\n",
       "</table>\n",
       "</div>"
      ],
      "text/plain": [
       "   param_estimator__alpha param_estimator__class_weight param_estimator__loss  \\\n",
       "0                  0.0001                      balanced                 hinge   \n",
       "1                  0.0001                      balanced                   log   \n",
       "2                  0.0001                          None                 hinge   \n",
       "3                  0.0001                          None                   log   \n",
       "4                   0.001                      balanced                 hinge   \n",
       "5                   0.001                      balanced                   log   \n",
       "6                   0.001                          None                 hinge   \n",
       "7                   0.001                          None                   log   \n",
       "8                    0.01                      balanced                 hinge   \n",
       "9                    0.01                      balanced                   log   \n",
       "10                   0.01                          None                 hinge   \n",
       "11                   0.01                          None                   log   \n",
       "12                   0.05                      balanced                 hinge   \n",
       "13                   0.05                      balanced                   log   \n",
       "14                   0.05                          None                 hinge   \n",
       "15                   0.05                          None                   log   \n",
       "16                    0.1                      balanced                 hinge   \n",
       "17                    0.1                      balanced                   log   \n",
       "18                    0.1                          None                 hinge   \n",
       "19                    0.1                          None                   log   \n",
       "\n",
       "    mean_test_score  std_test_score  rank_test_score  \n",
       "0          0.629164        0.009104               18  \n",
       "1          0.644920        0.008880               14  \n",
       "2          0.654327        0.013485               13  \n",
       "3          0.660928        0.016174                8  \n",
       "4          0.641978        0.007103               15  \n",
       "5          0.638036        0.011483               16  \n",
       "6          0.673404        0.002137                3  \n",
       "7          0.670131        0.008665                4  \n",
       "8          0.661155        0.011650                7  \n",
       "9          0.657398        0.000858               10  \n",
       "10         0.664279        0.003230                6  \n",
       "11         0.673696        0.005869                2  \n",
       "12         0.676400        0.004185                1  \n",
       "13         0.654725        0.003356               12  \n",
       "14         0.613266        0.007651               19  \n",
       "15         0.657457        0.004726                9  \n",
       "16         0.667171        0.029183                5  \n",
       "17         0.655752        0.005040               11  \n",
       "18         0.591141        0.001834               20  \n",
       "19         0.636091        0.003432               17  "
      ]
     },
     "execution_count": 47,
     "metadata": {},
     "output_type": "execute_result"
    }
   ],
   "source": [
    "cv_sgd_df = pd.DataFrame(cv_sgd.cv_results_)\n",
    "# find the parameters for the best estimator\n",
    "print(cv_sgd.best_params_)\n",
    "print(cv_sgd.best_score_)\n",
    "\n",
    "outcome_sgd = cv_sgd_df[['param_estimator__alpha','param_estimator__class_weight',\n",
    "                         'param_estimator__loss', 'mean_test_score','std_test_score','rank_test_score']]\n",
    "outcome_sgd"
   ]
  },
  {
   "cell_type": "code",
   "execution_count": 48,
   "metadata": {},
   "outputs": [],
   "source": [
    "# train several classifiers (with the best parameters from above gridsearch) and see which one performs the best\n",
    "clf_rf = MultiOutputClassifier(RandomForestClassifier(n_estimators=400, \n",
    "                                                      random_state=2, \n",
    "                                                      class_weight=None))\n",
    "\n",
    "clf_nb = MultiOutputClassifier(MultinomialNB())\n",
    "\n",
    "clf_sgd = MultiOutputClassifier(SGDClassifier(loss='hinge',\n",
    "                                              alpha=0.05, \n",
    "                                              class_weight='balanced'))\n",
    "\n",
    "# fit to the train set data\n",
    "clf_rf.fit(X_train,Y_train_filled)\n",
    "clf_nb.fit(X_train,Y_train_filled)\n",
    "clf_sgd.fit(X_train,Y_train_filled)\n",
    "\n",
    "# predict on test set data\n",
    "Y_pred_rf = clf_rf.predict(X_test)\n",
    "Y_pred_nb = clf_nb.predict(X_test)\n",
    "Y_pred_sgd = clf_sgd.predict(X_test)"
   ]
  },
  {
   "cell_type": "code",
   "execution_count": 49,
   "metadata": {},
   "outputs": [
    {
     "name": "stdout",
     "output_type": "stream",
     "text": [
      "Naive Bayes:\n",
      "{0: 0.71, 1: 0.74, 2: 0.82, 3: 0.64, 4: 0.32, 5: 0.83, 6: 0.84, 7: 0.81, 8: 0.76, 9: 0.65}\n",
      "Random Forest:\n",
      "{0: 0.63, 1: 0.7, 2: 0.81, 3: 0.53, 4: 0.28, 5: 0.82, 6: 0.84, 7: 0.79, 8: 0.74, 9: 0.56}\n",
      "LinearSVM w/SGD:\n",
      "{0: 0.66, 1: 0.7, 2: 0.71, 3: 0.67, 4: 0.51, 5: 0.78, 6: 0.8, 7: 0.72, 8: 0.74, 9: 0.68}\n"
     ]
    }
   ],
   "source": [
    "# evaluate the model using test set on those available responses only\n",
    "def evaluate_model(Y_pred, Y_test=Y_test):\n",
    "    '''\n",
    "    Input:\n",
    "    Y_pred - predicted user-response array for test set (no NAN, all predicted)\n",
    "    Y_test - actual user-response dataframe for test set (with NAN for unknown responses)\n",
    "    clf - trained classifier to be evaluated\n",
    "    Output:\n",
    "    f1_dict - a dictionary of the f1 score for all offer type, key:offer type, value:f1 score.\n",
    "    '''\n",
    "    \n",
    "    f1_dict = dict()\n",
    "    \n",
    "    for i in range(10):\n",
    "        # take only the spcific offer type\n",
    "        y_test = np.array(Y_test.iloc[:,i])\n",
    "        y_pred = Y_pred[:,i]\n",
    "    \n",
    "        # take only those avialable responses in test set\n",
    "        idx = np.where(y_test>-1)[0]\n",
    "        y_test = y_test[idx]\n",
    "        y_pred = y_pred[idx]\n",
    "        f1_dict[i] = round(f1_score(y_test,y_pred),2)\n",
    "    return f1_dict\n",
    "\n",
    "# iterate through all three classifiers for comparison\n",
    "pred_model = [Y_pred_nb, Y_pred_rf, Y_pred_sgd]\n",
    "name_model = ['Naive Bayes', 'Random Forest', 'LinearSVM w/SGD']\n",
    "dict_list = []\n",
    "\n",
    "for Y_pred, name in zip(pred_model, name_model):\n",
    "    f1_dict = evaluate_model(Y_pred)\n",
    "    print('{}:\\n{}'.format(name, f1_dict))\n",
    "    dict_list.append(f1_dict)\n",
    "\n",
    "# store the f1 score in lists for visualization\n",
    "f1_nb = [v for k,v in dict_list[0].items()]\n",
    "f1_rf = [v for k,v in dict_list[1].items()]\n",
    "f1_sgd = [v for k,v in dict_list[2].items()]"
   ]
  },
  {
   "cell_type": "code",
   "execution_count": 78,
   "metadata": {},
   "outputs": [
    {
     "data": {
      "text/plain": [
       "<matplotlib.legend.Legend at 0x7ff34d2026d0>"
      ]
     },
     "execution_count": 78,
     "metadata": {},
     "output_type": "execute_result"
    },
    {
     "data": {
      "image/png": "[encoded data removed]",
      "text/plain": [
       "<Figure size 432x288 with 1 Axes>"
      ]
     },
     "metadata": {
      "needs_background": "light"
     },
     "output_type": "display_data"
    }
   ],
   "source": [
    "# Visualization of the results\n",
    "\n",
    "ind = np.arange(10)  \n",
    "width = 0.20       \n",
    "fig = plt.figure()\n",
    "ax = fig.add_subplot(111)\n",
    "bar_nb = ax.bar(ind-width, f1_nb, width, color='royalblue')\n",
    "bar_rf = ax.bar(ind, f1_rf, width, color='seagreen')\n",
    "bar_sgd = ax.bar(ind+width, f1_sgd, width, color='orange')\n",
    "\n",
    "ax.set_xlabel('Offer type')\n",
    "ax.set_ylabel('F1 score')\n",
    "ax.set_title('F1 score for each offer type for three classifers')\n",
    "ax.set_xticks(ind)\n",
    "ax.set_xticklabels( ('0','1','2','3','4','5','6','7','8','9') )\n",
    "ax.set_ylim([0,1])\n",
    "\n",
    "ax.legend( (bar_nb[0], bar_rf[0], bar_sgd[0]), ('NB', 'RF', 'SGD') )"
   ]
  },
  {
   "cell_type": "code",
   "execution_count": 51,
   "metadata": {},
   "outputs": [
    {
     "name": "stdout",
     "output_type": "stream",
     "text": [
      "**Test set F1 score for each offer type**\n",
      "{0: 0.71, 1: 0.74, 2: 0.82, 3: 0.67, 4: 0.51, 5: 0.83, 6: 0.84, 7: 0.81, 8: 0.76, 9: 0.68}\n"
     ]
    }
   ],
   "source": [
    "# MultinomialNB classfier generally performs the best among the three\n",
    "# However, LinearSVM with SGD learning outperforms MultinomialNB for predicting responses of offer 3,4\n",
    "# Therefore, define a function below to combine them for predictions\n",
    "\n",
    "def best_classifier(X, clf_sgd=clf_sgd, clf_nb=clf_nb, clf_rf=clf_rf):\n",
    "    '''\n",
    "    Input:\n",
    "    X -- user-feature dataframe\n",
    "    clf_sgd -- trained LinearSVM classifier with SGD learning, used for predicting offer 3,4 \n",
    "    clf_rf -- trained random forest classifier, used for predicting offer 2,7\n",
    "    clf_nb -- trained MultinomialNB classifier, used for predicting rest of the offer types\n",
    "    Output:\n",
    "    Y_pred -- an array of predicted user responses for all offer type, row:user, column:offer type\n",
    "    '''\n",
    "    \n",
    "    Y_pred = np.zeros((len(X),len(clf_nb.estimators_)))\n",
    "    \n",
    "    for i,clf in enumerate(clf_sgd.estimators_):\n",
    "        if i in [3,4,9]:\n",
    "            Y_pred[:,i] = clf.predict(X)\n",
    "\n",
    "    for i,clf in enumerate(clf_rf.estimators_):\n",
    "        if i in []:\n",
    "            Y_pred[:,i] = clf.predict(X)\n",
    "            \n",
    "    for i,clf in enumerate(clf_nb.estimators_):\n",
    "        if i not in [3,4,9]:\n",
    "            Y_pred[:,i] = clf.predict(X)\n",
    "            \n",
    "    return Y_pred\n",
    "\n",
    "Y_pred_best = best_classifier(X_test)\n",
    "f1_dict = evaluate_model(Y_pred_best)\n",
    "\n",
    "print('**Test set F1 score for each offer type**')\n",
    "print(f1_dict)"
   ]
  },
  {
   "cell_type": "code",
   "execution_count": 58,
   "metadata": {},
   "outputs": [],
   "source": [
    "# feature importance visualization\n",
    "feature_rank = pd.DataFrame(index=X_train.columns)\n",
    "for i,clf in enumerate(clf_rf.estimators_):\n",
    "    feature_rank[i] = clf.feature_importances_"
   ]
  },
  {
   "cell_type": "code",
   "execution_count": 100,
   "metadata": {},
   "outputs": [],
   "source": [
    "def bar_plot(column, df):\n",
    "    df_col = df[column].sort_values(ascending=False)\n",
    "    x = df_col.index[:10]\n",
    "    y = df_col.values[:10]\n",
    "    plt.bar(x, y, label='offer {}'.format(column))\n",
    "    plt.xticks(rotation=90)\n",
    "    plt.title('Top 10 important features for offer {}'.format(column))\n",
    "    plt.ylabel('feature importance')\n",
    "    plt.legend()"
   ]
  },
  {
   "cell_type": "code",
   "execution_count": 103,
   "metadata": {},
   "outputs": [
    {
     "data": {
      "image/png": "[encoded data removed]",
      "text/plain": [
       "<Figure size 432x288 with 1 Axes>"
      ]
     },
     "metadata": {
      "needs_background": "light"
     },
     "output_type": "display_data"
    }
   ],
   "source": [
    "bar_plot(0, feature_rank)"
   ]
  },
  {
   "cell_type": "code",
   "execution_count": 104,
   "metadata": {},
   "outputs": [
    {
     "data": {
      "image/png": "[encoded data removed]",
      "text/plain": [
       "<Figure size 432x288 with 1 Axes>"
      ]
     },
     "metadata": {
      "needs_background": "light"
     },
     "output_type": "display_data"
    }
   ],
   "source": [
    "bar_plot(1, feature_rank)"
   ]
  },
  {
   "cell_type": "code",
   "execution_count": 105,
   "metadata": {},
   "outputs": [
    {
     "data": {
      "image/png": "[encoded data removed]",
      "text/plain": [
       "<Figure size 432x288 with 1 Axes>"
      ]
     },
     "metadata": {
      "needs_background": "light"
     },
     "output_type": "display_data"
    }
   ],
   "source": [
    "bar_plot(2, feature_rank)"
   ]
  },
  {
   "cell_type": "code",
   "execution_count": 106,
   "metadata": {},
   "outputs": [
    {
     "data": {
      "image/png": "[encoded data removed]",
      "text/plain": [
       "<Figure size 432x288 with 1 Axes>"
      ]
     },
     "metadata": {
      "needs_background": "light"
     },
     "output_type": "display_data"
    }
   ],
   "source": [
    "bar_plot(3, feature_rank)"
   ]
  },
  {
   "cell_type": "code",
   "execution_count": 107,
   "metadata": {},
   "outputs": [
    {
     "data": {
      "image/png": "[encoded data removed]",
      "text/plain": [
       "<Figure size 432x288 with 1 Axes>"
      ]
     },
     "metadata": {
      "needs_background": "light"
     },
     "output_type": "display_data"
    }
   ],
   "source": [
    "bar_plot(4, feature_rank)"
   ]
  },
  {
   "cell_type": "code",
   "execution_count": 108,
   "metadata": {},
   "outputs": [
    {
     "data": {
      "image/png": "[encoded data removed]",
      "text/plain": [
       "<Figure size 432x288 with 1 Axes>"
      ]
     },
     "metadata": {
      "needs_background": "light"
     },
     "output_type": "display_data"
    }
   ],
   "source": [
    "bar_plot(5, feature_rank)"
   ]
  },
  {
   "cell_type": "code",
   "execution_count": 109,
   "metadata": {},
   "outputs": [
    {
     "data": {
      "image/png": "[encoded data removed]",
      "text/plain": [
       "<Figure size 432x288 with 1 Axes>"
      ]
     },
     "metadata": {
      "needs_background": "light"
     },
     "output_type": "display_data"
    }
   ],
   "source": [
    "bar_plot(6, feature_rank)"
   ]
  },
  {
   "cell_type": "code",
   "execution_count": 110,
   "metadata": {},
   "outputs": [
    {
     "data": {
      "image/png": "[encoded data removed]",
      "text/plain": [
       "<Figure size 432x288 with 1 Axes>"
      ]
     },
     "metadata": {
      "needs_background": "light"
     },
     "output_type": "display_data"
    }
   ],
   "source": [
    "bar_plot(7, feature_rank)"
   ]
  },
  {
   "cell_type": "code",
   "execution_count": 111,
   "metadata": {},
   "outputs": [
    {
     "data": {
      "image/png": "[encoded data removed]",
      "text/plain": [
       "<Figure size 432x288 with 1 Axes>"
      ]
     },
     "metadata": {
      "needs_background": "light"
     },
     "output_type": "display_data"
    }
   ],
   "source": [
    "bar_plot(8, feature_rank)"
   ]
  },
  {
   "cell_type": "code",
   "execution_count": 112,
   "metadata": {},
   "outputs": [
    {
     "data": {
      "image/png": "[encoded data removed]",
      "text/plain": [
       "<Figure size 432x288 with 1 Axes>"
      ]
     },
     "metadata": {
      "needs_background": "light"
     },
     "output_type": "display_data"
    }
   ],
   "source": [
    "bar_plot(9, feature_rank)"
   ]
  },
  {
   "cell_type": "code",
   "execution_count": 99,
   "metadata": {},
   "outputs": [
    {
     "data": {
      "image/png": "[encoded data removed]",
      "text/plain": [
       "<Figure size 432x288 with 1 Axes>"
      ]
     },
     "metadata": {
      "needs_background": "light"
     },
     "output_type": "display_data"
    }
   ],
   "source": [
    "# looks like new member (membreship since 2018) has a rather distinct behavior on most types of offer\n",
    "# below is a closer look at how it is different in terms of positive/negative response ratio\n",
    "# clearly these new members generally respond more negatively than an average customer\n",
    "\n",
    "user2018 = X_user[X_user['membership_group_since_2018']==1].index\n",
    "offer2018 = offer_df.loc[user2018]\n",
    "\n",
    "n_1 = []\n",
    "n_0 = []\n",
    "for i in range(10):\n",
    "    n_1.append(len(offer2018[offer2018[i]==1]))\n",
    "    n_0.append(len(offer2018[offer2018[i]==0]))\n",
    "\n",
    "plot_user_response(n_1=n_1, n_0=n_0)"
   ]
  },
  {
   "cell_type": "code",
   "execution_count": 52,
   "metadata": {},
   "outputs": [],
   "source": [
    "# Pickle the two classifiers to use in the web application\n",
    "pickle.dump(clf_rf, open('models/clf_rf.pkl','wb'))\n",
    "pickle.dump(clf_nb, open('models/clf_nb.pkl','wb'))\n",
    "pickle.dump(clf_sgd, open('models/clf_sgd.pkl','wb'))"
   ]
  },
  {
   "cell_type": "markdown",
   "metadata": {},
   "source": [
    "# 4. Conclusion"
   ]
  },
  {
   "cell_type": "markdown",
   "metadata": {},
   "source": [
    "In this work, I took a modeling approach to achieve the goal of predicting who should receive each type of offers. I frist create a user response dataframe by defining what \"positive response\" means for each type of offer. Based on the criteria, each user-offer interaction is evaluated as either positive(1), negative(0), or unclear (NAN). \n",
    "\n",
    "Then I define my user features as age group, membership history group, gender group, income group and train a few classfiers on my training set data. I also used FunkSVD method to fill in all the missing data for the user-offer interaction matrix. Note that this is just for improving model training and does not affect the integrity and validity of model evaluation, as it is not done for the test set data.\n",
    "\n",
    "Multinominal NB classifier is found to perform well for most offer types, but LinearSVM with SGD learning outperforms it for offer type 3, 4. Therefore, a combined-model classifier is used to make predictions for all offer types. Combining the two classifiers, the test set F1 score is:\n",
    "- 0.83-0.84 for offer 5,6\n",
    "- 0.7-0.8 for offer 0,1,2,7,8\n",
    "- 0.67-0.68 for offer 3,9\n",
    "- 0.52 for offer 4\n",
    "\n",
    "\n",
    "For any user in our database with features(age, member_since, gender, income) available, we can simply decide which offer to send based on the model prediction (1-send, 0-do not send) \n",
    "\n",
    "**A web application is made to allow one to provide customer information and receive offer recommendations**"
   ]
  },
  {
   "cell_type": "markdown",
   "metadata": {},
   "source": [
    "# 5. Challenges/Improvements"
   ]
  },
  {
   "cell_type": "markdown",
   "metadata": {},
   "source": [
    "Some of the challenges I had & some potential improvement areas include:\n",
    "\n",
    "- Define a user's response to an offer: how do we define a positive/negative response? The ML model needs to be trained with a set of known labels (positive/negative response) so this would be an important question to ask. I assume \"complete the offer\" is the criteria for a positive response and therefore a criteria for sending offer. However, this does not work for informational type of offer as they don't have a clear \"completion\" criteria. So I assume if the user make a purchase within the information display duration, then it would be a positive response - meaning we should send an offer. This is a rather \"generous\" definition for \"completing\" an offer. Maybe one would make a purchase even without seeing the offer. I assume this is okay given that sending informational offer doesn't really cost much.\n",
    "- Understand the impact of offers by comparison with control group: In the given dataset, almost everybody receives at least one type of offer. So there is essentially no control group data. It is difficult to know what a type of user would behave without any offer. So it is possible that some user groups would purchase the product even without the offer, but our model recommends sending offer to them anyway (because after they see the offer, they do make the purchase).\n",
    "- \"Outlier\" data issue: There is a group of \"users\" that are >101 year's old, have no income info and unknown gender. This group do have quite a lot of transaction and offer-user interaction records. I choose to keep those users in the model training (gender='unknown', age='unclear', income='unknown').\n",
    "- Better model performance with more user info: different users with the same age, gender, income, and membership history may still react quite differently to the same offer because there are a lot more features of a person beyond these four. To further improve the model performance, we may want to find more features for the user. One thing may be find characteristics of the user's transaction behavior. E.g., average expense on each transaction, number of transactions in each week, etc."
   ]
  },
  {
   "cell_type": "code",
   "execution_count": null,
   "metadata": {},
   "outputs": [],
   "source": []
  }
 ],
 "metadata": {
  "kernelspec": {
   "display_name": "Python 3",
   "language": "python",
   "name": "python3"
  },
  "language_info": {
   "codemirror_mode": {
    "name": "ipython",
    "version": 3
   },
   "file_extension": ".py",
   "mimetype": "text/x-python",
   "name": "python",
   "nbconvert_exporter": "python",
   "pygments_lexer": "ipython3",
   "version": "3.8.8"
  }
 },
 "nbformat": 4,
 "nbformat_minor": 2
}
